{
 "cells": [
  {
   "cell_type": "code",
   "execution_count": null,
   "metadata": {},
   "outputs": [],
   "source": [
    "# !pip install findspark\n",
    "import findspark\n",
    "findspark.init()"
   ]
  },
  {
   "cell_type": "code",
   "execution_count": 1,
   "metadata": {},
   "outputs": [],
   "source": [
    "from pyspark.sql import SparkSession\n",
    "from pyspark.sql.types import *\n",
    "from pyspark.sql.functions import *"
   ]
  },
  {
   "cell_type": "code",
   "execution_count": null,
   "metadata": {},
   "outputs": [],
   "source": [
    "spark = SparkSession.builder.getOrCreate() # Creating Spark Session"
   ]
  },
  {
   "cell_type": "code",
   "execution_count": 2,
   "metadata": {
    "scrolled": true
   },
   "outputs": [
    {
     "data": {
      "text/html": [
       "\n",
       "            <div>\n",
       "                <p><b>SparkSession - hive</b></p>\n",
       "                \n",
       "        <div>\n",
       "            <p><b>SparkContext</b></p>\n",
       "\n",
       "            <p><a href=\"http://192.168.6.128:4041\">Spark UI</a></p>\n",
       "\n",
       "            <dl>\n",
       "              <dt>Version</dt>\n",
       "                <dd><code>v3.0.1</code></dd>\n",
       "              <dt>Master</dt>\n",
       "                <dd><code>local[*]</code></dd>\n",
       "              <dt>AppName</dt>\n",
       "                <dd><code>PySparkShell</code></dd>\n",
       "            </dl>\n",
       "        </div>\n",
       "        \n",
       "            </div>\n",
       "        "
      ],
      "text/plain": [
       "<pyspark.sql.session.SparkSession at 0x7f842083b220>"
      ]
     },
     "execution_count": 2,
     "metadata": {},
     "output_type": "execute_result"
    }
   ],
   "source": [
    "spark"
   ]
  },
  {
   "cell_type": "markdown",
   "metadata": {},
   "source": [
    "# Plays Data"
   ]
  },
  {
   "cell_type": "code",
   "execution_count": 3,
   "metadata": {},
   "outputs": [],
   "source": [
    "# dataframe Schema creation.\n",
    "play_data_schema = StructType(\n",
    "  [StructField('User_ID', StringType()),\n",
    "   StructField('Song_ID', StringType()),\n",
    "   StructField('Play_Count', IntegerType())]\n",
    ")"
   ]
  },
  {
   "cell_type": "code",
   "execution_count": 4,
   "metadata": {},
   "outputs": [],
   "source": [
    "#reading data into a Spark dataframe.\n",
    "play_data = spark.read.options(delimiter = ',', header=False,inferSchema=False) \\\n",
    "                         .schema(play_data_schema) \\\n",
    "                         .csv(\"triplets_sample.csv\")\n",
    "\n",
    "\n",
    "# Our S3 datafiles folder in AWS\n",
    "#s3://603project//filename\n",
    "\n",
    "# Our Hadoop datafiles folder\n",
    "# hdfs://localhost:9000/603project/filename"
   ]
  },
  {
   "cell_type": "code",
   "execution_count": 5,
   "metadata": {},
   "outputs": [
    {
     "name": "stdout",
     "output_type": "stream",
     "text": [
      "+--------------------+------------------+----------+\n",
      "|             User_ID|           Song_ID|Play_Count|\n",
      "+--------------------+------------------+----------+\n",
      "|b80344d063b5ccb32...|SOWEZSI12A81C21CE6|         1|\n",
      "|4bd88bfb25263a75b...|SODCXXY12AB0187452|         2|\n",
      "|4bd88bfb25263a75b...|SOWPAXV12A67ADA046|        18|\n",
      "|b64cdd1a0bd907e5e...|SOLXDDC12A6701FBFD|         1|\n",
      "|b64cdd1a0bd907e5e...|SONJBQX12A6D4F8382|         4|\n",
      "+--------------------+------------------+----------+\n",
      "only showing top 5 rows\n",
      "\n"
     ]
    }
   ],
   "source": [
    "play_data.show(5)"
   ]
  },
  {
   "cell_type": "code",
   "execution_count": 6,
   "metadata": {},
   "outputs": [
    {
     "data": {
      "text/plain": [
       "700"
      ]
     },
     "execution_count": 6,
     "metadata": {},
     "output_type": "execute_result"
    }
   ],
   "source": [
    "play_data.count()"
   ]
  },
  {
   "cell_type": "markdown",
   "metadata": {},
   "source": [
    "# Tracks to Song Data"
   ]
  },
  {
   "cell_type": "raw",
   "metadata": {},
   "source": [
    "# Opening the text Document and reading it.\n",
    "with open('subset_unique_tracks.txt', \"r\") as f:\n",
    "    newText=f.read().replace('<SEP>', '\\t')\n",
    "    f.close()"
   ]
  },
  {
   "cell_type": "raw",
   "metadata": {},
   "source": [
    "# Writing the document.\n",
    "with open('subset_unique_tracks.txt', \"w\") as f:\n",
    "    f.write(newText)\n",
    "    f.close()"
   ]
  },
  {
   "cell_type": "code",
   "execution_count": 7,
   "metadata": {},
   "outputs": [],
   "source": [
    "#creating Schema.\n",
    "tracks_schema = StructType(\n",
    "                           [StructField(\"Track_ID\", StringType()),\n",
    "                            StructField(\"Song_ID\", StringType()),\n",
    "                            StructField(\"Artist\", StringType()),\n",
    "                            StructField(\"Title\", StringType())    \n",
    "                           ])"
   ]
  },
  {
   "cell_type": "code",
   "execution_count": 8,
   "metadata": {},
   "outputs": [],
   "source": [
    "#reading data into dataframe.\n",
    "tracks_data = spark.read.options(delimiter = ',', header=False,inferSchema=False) \\\n",
    "                         .schema(tracks_schema) \\\n",
    "                         .csv('unquie_tracks_sample.csv')\n",
    "\n",
    "\n",
    "# Our S3 datafiles folder in AWS\n",
    "#s3://603project//filename\n",
    "\n",
    "# Our Hadoop datafiles folder\n",
    "# hdfs://localhost:9000/603project/filename"
   ]
  },
  {
   "cell_type": "code",
   "execution_count": 9,
   "metadata": {},
   "outputs": [
    {
     "name": "stdout",
     "output_type": "stream",
     "text": [
      "+------------------+------------------+-----------+-----------------+\n",
      "|          Track_ID|           Song_ID|     Artist|            Title|\n",
      "+------------------+------------------+-----------+-----------------+\n",
      "|TRAUCNU128F42671EB|SOWEZSI12A81C21CE6|Gipsy Kings|Tu Quieres Volver|\n",
      "|TRBFXMJ12903CB50F6|SODCXXY12AB0187452| brokeNCYDE|          Freaxxx|\n",
      "|TRBBMHE128EF341D09|SOWPAXV12A67ADA046|Salt-N-Pepa|          Push It|\n",
      "|TRAUURC128E078EC6E|SOLXDDC12A6701FBFD|     Eminem|         I'm Back|\n",
      "|TRAQVTO128F14696A6|SONJBQX12A6D4F8382|  Daft Punk|          Da Funk|\n",
      "+------------------+------------------+-----------+-----------------+\n",
      "only showing top 5 rows\n",
      "\n"
     ]
    }
   ],
   "source": [
    "tracks_data.show(5)"
   ]
  },
  {
   "cell_type": "code",
   "execution_count": 10,
   "metadata": {},
   "outputs": [
    {
     "data": {
      "text/plain": [
       "700"
      ]
     },
     "execution_count": 10,
     "metadata": {},
     "output_type": "execute_result"
    }
   ],
   "source": [
    "tracks_data.count()"
   ]
  },
  {
   "cell_type": "markdown",
   "metadata": {},
   "source": [
    "# Checking NULL values"
   ]
  },
  {
   "cell_type": "code",
   "execution_count": 11,
   "metadata": {},
   "outputs": [
    {
     "name": "stdout",
     "output_type": "stream",
     "text": [
      "+-------+-------+----------+\n",
      "|User_ID|Song_ID|Play_Count|\n",
      "+-------+-------+----------+\n",
      "|      0|      0|         0|\n",
      "+-------+-------+----------+\n",
      "\n"
     ]
    }
   ],
   "source": [
    "play_data.select([count(when(isnan(c), c)).alias(c) for c in play_data.columns]).show()\n",
    "# play_data.where(col(\"User_ID\").isNull()).show()"
   ]
  },
  {
   "cell_type": "code",
   "execution_count": 12,
   "metadata": {},
   "outputs": [
    {
     "name": "stdout",
     "output_type": "stream",
     "text": [
      "+--------+-------+------+-----+\n",
      "|Track_ID|Song_ID|Artist|Title|\n",
      "+--------+-------+------+-----+\n",
      "|       0|      0|     0|    0|\n",
      "+--------+-------+------+-----+\n",
      "\n"
     ]
    }
   ],
   "source": [
    "tracks_data.select([count(when(isnan(c), c)).alias(c) for c in tracks_data.columns]).show()"
   ]
  },
  {
   "cell_type": "markdown",
   "metadata": {},
   "source": [
    "# Subsetting the Play_Data"
   ]
  },
  {
   "cell_type": "code",
   "execution_count": 13,
   "metadata": {},
   "outputs": [],
   "source": [
    "df = play_data.join(tracks_data, on = [\"Song_ID\"], how = \"inner\")"
   ]
  },
  {
   "cell_type": "code",
   "execution_count": 14,
   "metadata": {},
   "outputs": [
    {
     "name": "stdout",
     "output_type": "stream",
     "text": [
      "root\n",
      " |-- Song_ID: string (nullable = true)\n",
      " |-- User_ID: string (nullable = true)\n",
      " |-- Play_Count: integer (nullable = true)\n",
      " |-- Track_ID: string (nullable = true)\n",
      " |-- Artist: string (nullable = true)\n",
      " |-- Title: string (nullable = true)\n",
      "\n"
     ]
    }
   ],
   "source": [
    "df.printSchema()"
   ]
  },
  {
   "cell_type": "code",
   "execution_count": 15,
   "metadata": {},
   "outputs": [
    {
     "name": "stdout",
     "output_type": "stream",
     "text": [
      "+------------------+--------------------+----------+------------------+-----------+-----------------+\n",
      "|           Song_ID|             User_ID|Play_Count|          Track_ID|     Artist|            Title|\n",
      "+------------------+--------------------+----------+------------------+-----------+-----------------+\n",
      "|SOWEZSI12A81C21CE6|b80344d063b5ccb32...|         1|TRAUCNU128F42671EB|Gipsy Kings|Tu Quieres Volver|\n",
      "|SODCXXY12AB0187452|4bd88bfb25263a75b...|         2|TRBFXMJ12903CB50F6| brokeNCYDE|          Freaxxx|\n",
      "|SOWPAXV12A67ADA046|2a294bd589db99006...|         1|TRBBMHE128EF341D09|Salt-N-Pepa|          Push It|\n",
      "|SOWPAXV12A67ADA046|529b42cdbc379ad2e...|         4|TRBBMHE128EF341D09|Salt-N-Pepa|          Push It|\n",
      "|SOWPAXV12A67ADA046|0a00498b9d607844a...|         2|TRBBMHE128EF341D09|Salt-N-Pepa|          Push It|\n",
      "+------------------+--------------------+----------+------------------+-----------+-----------------+\n",
      "only showing top 5 rows\n",
      "\n"
     ]
    }
   ],
   "source": [
    "df.show(5)"
   ]
  },
  {
   "cell_type": "code",
   "execution_count": 16,
   "metadata": {},
   "outputs": [],
   "source": [
    "# df.select(\"Song_ID\").distinct().count()"
   ]
  },
  {
   "cell_type": "code",
   "execution_count": 17,
   "metadata": {},
   "outputs": [
    {
     "data": {
      "text/plain": [
       "3962"
      ]
     },
     "execution_count": 17,
     "metadata": {},
     "output_type": "execute_result"
    }
   ],
   "source": [
    "df.count()"
   ]
  },
  {
   "cell_type": "markdown",
   "metadata": {},
   "source": [
    "# Descriptive Statistics"
   ]
  },
  {
   "cell_type": "code",
   "execution_count": 18,
   "metadata": {},
   "outputs": [
    {
     "data": {
      "text/plain": [
       "386"
      ]
     },
     "execution_count": 18,
     "metadata": {},
     "output_type": "execute_result"
    }
   ],
   "source": [
    "# Unique Users\n",
    "\n",
    "users = df.select('User_ID').distinct().count()\n",
    "users"
   ]
  },
  {
   "cell_type": "code",
   "execution_count": 19,
   "metadata": {},
   "outputs": [
    {
     "data": {
      "text/plain": [
       "335"
      ]
     },
     "execution_count": 19,
     "metadata": {},
     "output_type": "execute_result"
    }
   ],
   "source": [
    "# Unique Songs\n",
    "songs = df.select('Song_ID').distinct().count()\n",
    "songs"
   ]
  },
  {
   "cell_type": "code",
   "execution_count": 20,
   "metadata": {},
   "outputs": [
    {
     "name": "stdout",
     "output_type": "stream",
     "text": [
      "+-------+------------------+\n",
      "|summary|        Play_Count|\n",
      "+-------+------------------+\n",
      "|  count|              3962|\n",
      "|   mean|2.4126703685007573|\n",
      "| stddev|2.8728980196713856|\n",
      "|    min|                 1|\n",
      "|    max|                24|\n",
      "+-------+------------------+\n",
      "\n"
     ]
    }
   ],
   "source": [
    "# play count statistics\n",
    "df.select(\"Play_Count\").describe().show()"
   ]
  },
  {
   "cell_type": "raw",
   "metadata": {},
   "source": [
    "From the Statistics we can see that it is possible that we have a user who might have listened to only one song.\n",
    "But it is quite unlikely to have a play count of 771 considering mean is 2.68."
   ]
  },
  {
   "cell_type": "code",
   "execution_count": 21,
   "metadata": {},
   "outputs": [
    {
     "data": {
      "text/html": [
       "<div>\n",
       "<style scoped>\n",
       "    .dataframe tbody tr th:only-of-type {\n",
       "        vertical-align: middle;\n",
       "    }\n",
       "\n",
       "    .dataframe tbody tr th {\n",
       "        vertical-align: top;\n",
       "    }\n",
       "\n",
       "    .dataframe thead th {\n",
       "        text-align: right;\n",
       "    }\n",
       "</style>\n",
       "<table border=\"1\" class=\"dataframe\">\n",
       "  <thead>\n",
       "    <tr style=\"text-align: right;\">\n",
       "      <th></th>\n",
       "      <th>sum(Play_Count)</th>\n",
       "    </tr>\n",
       "  </thead>\n",
       "  <tbody>\n",
       "    <tr>\n",
       "      <th>count</th>\n",
       "      <td>386.000000</td>\n",
       "    </tr>\n",
       "    <tr>\n",
       "      <th>mean</th>\n",
       "      <td>24.764249</td>\n",
       "    </tr>\n",
       "    <tr>\n",
       "      <th>std</th>\n",
       "      <td>44.303134</td>\n",
       "    </tr>\n",
       "    <tr>\n",
       "      <th>min</th>\n",
       "      <td>1.000000</td>\n",
       "    </tr>\n",
       "    <tr>\n",
       "      <th>25%</th>\n",
       "      <td>3.000000</td>\n",
       "    </tr>\n",
       "    <tr>\n",
       "      <th>50%</th>\n",
       "      <td>9.000000</td>\n",
       "    </tr>\n",
       "    <tr>\n",
       "      <th>75%</th>\n",
       "      <td>24.750000</td>\n",
       "    </tr>\n",
       "    <tr>\n",
       "      <th>90%</th>\n",
       "      <td>64.500000</td>\n",
       "    </tr>\n",
       "    <tr>\n",
       "      <th>99%</th>\n",
       "      <td>226.350000</td>\n",
       "    </tr>\n",
       "    <tr>\n",
       "      <th>99.9%</th>\n",
       "      <td>360.705000</td>\n",
       "    </tr>\n",
       "    <tr>\n",
       "      <th>max</th>\n",
       "      <td>425.000000</td>\n",
       "    </tr>\n",
       "  </tbody>\n",
       "</table>\n",
       "</div>"
      ],
      "text/plain": [
       "       sum(Play_Count)\n",
       "count       386.000000\n",
       "mean         24.764249\n",
       "std          44.303134\n",
       "min           1.000000\n",
       "25%           3.000000\n",
       "50%           9.000000\n",
       "75%          24.750000\n",
       "90%          64.500000\n",
       "99%         226.350000\n",
       "99.9%       360.705000\n",
       "max         425.000000"
      ]
     },
     "execution_count": 21,
     "metadata": {},
     "output_type": "execute_result"
    }
   ],
   "source": [
    "# User activity\n",
    "user_activity = df.groupBy('User_ID').sum('Play_Count').toPandas()\n",
    "user_activity.describe(percentiles=[.25, .50, .75, .90, .99, .999])"
   ]
  },
  {
   "cell_type": "raw",
   "metadata": {},
   "source": [
    "From the above statistics we have observed that there exists a user who has listened to only one song."
   ]
  },
  {
   "cell_type": "markdown",
   "metadata": {},
   "source": [
    "# Exploratory Data Analysis"
   ]
  },
  {
   "cell_type": "code",
   "execution_count": 22,
   "metadata": {},
   "outputs": [],
   "source": [
    "from pyspark.sql.functions import *\n",
    "import matplotlib.pyplot as plt\n",
    "import pandas as pd\n",
    "import numpy as np"
   ]
  },
  {
   "cell_type": "markdown",
   "metadata": {},
   "source": [
    "# Top 10 Popular Songs based on their play count"
   ]
  },
  {
   "cell_type": "code",
   "execution_count": 23,
   "metadata": {},
   "outputs": [],
   "source": [
    "pd_df1 = df.groupBy('Title').sum('Play_Count').sort(desc('sum(Play_Count)'))"
   ]
  },
  {
   "cell_type": "code",
   "execution_count": 24,
   "metadata": {},
   "outputs": [],
   "source": [
    "# pd_df1.cache()"
   ]
  },
  {
   "cell_type": "code",
   "execution_count": 25,
   "metadata": {},
   "outputs": [],
   "source": [
    "pd_df1 = pd_df1.limit(10).toPandas() # Spark dataframe into pandas dataframe."
   ]
  },
  {
   "cell_type": "code",
   "execution_count": 26,
   "metadata": {},
   "outputs": [
    {
     "data": {
      "text/plain": [
       "(10, 2)"
      ]
     },
     "execution_count": 26,
     "metadata": {},
     "output_type": "execute_result"
    }
   ],
   "source": [
    "pd_df1.shape"
   ]
  },
  {
   "cell_type": "code",
   "execution_count": 27,
   "metadata": {},
   "outputs": [
    {
     "data": {
      "text/html": [
       "<div>\n",
       "<style scoped>\n",
       "    .dataframe tbody tr th:only-of-type {\n",
       "        vertical-align: middle;\n",
       "    }\n",
       "\n",
       "    .dataframe tbody tr th {\n",
       "        vertical-align: top;\n",
       "    }\n",
       "\n",
       "    .dataframe thead th {\n",
       "        text-align: right;\n",
       "    }\n",
       "</style>\n",
       "<table border=\"1\" class=\"dataframe\">\n",
       "  <thead>\n",
       "    <tr style=\"text-align: right;\">\n",
       "      <th></th>\n",
       "      <th>Title</th>\n",
       "      <th>sum(Play_Count)</th>\n",
       "    </tr>\n",
       "  </thead>\n",
       "  <tbody>\n",
       "    <tr>\n",
       "      <th>0</th>\n",
       "      <td>Supermassive Black Hole (Album Version)</td>\n",
       "      <td>1875</td>\n",
       "    </tr>\n",
       "    <tr>\n",
       "      <th>1</th>\n",
       "      <td>Nothin' On You [feat. Bruno Mars] (Album Version)</td>\n",
       "      <td>1128</td>\n",
       "    </tr>\n",
       "    <tr>\n",
       "      <th>2</th>\n",
       "      <td>Angie (1993 Digital Remaster)</td>\n",
       "      <td>912</td>\n",
       "    </tr>\n",
       "    <tr>\n",
       "      <th>3</th>\n",
       "      <td>Hips Don't Lie (featuring Wyclef Jean)</td>\n",
       "      <td>595</td>\n",
       "    </tr>\n",
       "    <tr>\n",
       "      <th>4</th>\n",
       "      <td>Check On It</td>\n",
       "      <td>528</td>\n",
       "    </tr>\n",
       "  </tbody>\n",
       "</table>\n",
       "</div>"
      ],
      "text/plain": [
       "                                               Title  sum(Play_Count)\n",
       "0            Supermassive Black Hole (Album Version)             1875\n",
       "1  Nothin' On You [feat. Bruno Mars] (Album Version)             1128\n",
       "2                      Angie (1993 Digital Remaster)              912\n",
       "3             Hips Don't Lie (featuring Wyclef Jean)              595\n",
       "4                                        Check On It              528"
      ]
     },
     "execution_count": 27,
     "metadata": {},
     "output_type": "execute_result"
    }
   ],
   "source": [
    "pd_df1.head()"
   ]
  },
  {
   "cell_type": "code",
   "execution_count": 28,
   "metadata": {},
   "outputs": [],
   "source": [
    "#pd_df1.info()"
   ]
  },
  {
   "cell_type": "code",
   "execution_count": 29,
   "metadata": {},
   "outputs": [
    {
     "name": "stderr",
     "output_type": "stream",
     "text": [
      "findfont: Font family ['Times New Roman'] not found. Falling back to DejaVu Sans.\n",
      "findfont: Font family ['Times New Roman'] not found. Falling back to DejaVu Sans.\n",
      "findfont: Font family ['Times New Roman'] not found. Falling back to DejaVu Sans.\n"
     ]
    },
    {
     "data": {
      "image/png": "[encoded data removed]",
      "text/plain": [
       "<Figure size 720x720 with 1 Axes>"
      ]
     },
     "metadata": {
      "needs_background": "light"
     },
     "output_type": "display_data"
    }
   ],
   "source": [
    "# plotting the  Bar plot\n",
    "plt.rcParams['figure.figsize']=(10,10)\n",
    "plt.bar(x=pd_df1['Title'], height = pd_df1['sum(Play_Count)'])\n",
    "plt.title(\"Top 10 Popular Songs and their play counts\", pad =25, fontsize='30',fontweight='bold', fontname=\"Times New Roman\", style='italic')\n",
    "plt.ylabel('Play count', fontweight='bold', color = 'Black', fontsize='25', \n",
    "           verticalalignment='center', labelpad=20, fontname=\"Times New Roman\", style='italic')# ylabel function is used for labelling the Y-axis.\n",
    "\n",
    "plt.xlabel('Song',fontweight='bold', color = 'Black', fontsize='25',\n",
    "           horizontalalignment='center', labelpad=20, fontname=\"Times New Roman\", style='italic') # xlabel function is used for labelling the X-axis.\n",
    "plt.xticks(fontname=\"Times New Roman\", rotation='vertical', fontsize='12')\n",
    "plt.show()"
   ]
  },
  {
   "cell_type": "markdown",
   "metadata": {},
   "source": [
    "# \n",
    "# Top 10 Popular Artistist according to their songs play Count"
   ]
  },
  {
   "cell_type": "code",
   "execution_count": 30,
   "metadata": {},
   "outputs": [],
   "source": [
    "pd_df2 = df.groupBy('Artist').sum('Play_Count').sort(desc('sum(Play_Count)'))"
   ]
  },
  {
   "cell_type": "code",
   "execution_count": 31,
   "metadata": {},
   "outputs": [],
   "source": [
    "# pd_df2.cache()"
   ]
  },
  {
   "cell_type": "code",
   "execution_count": 32,
   "metadata": {},
   "outputs": [],
   "source": [
    "pd_df2 = pd_df2.limit(10).toPandas()"
   ]
  },
  {
   "cell_type": "code",
   "execution_count": 33,
   "metadata": {},
   "outputs": [
    {
     "data": {
      "text/plain": [
       "(10, 2)"
      ]
     },
     "execution_count": 33,
     "metadata": {},
     "output_type": "execute_result"
    }
   ],
   "source": [
    "pd_df2.shape"
   ]
  },
  {
   "cell_type": "code",
   "execution_count": 34,
   "metadata": {},
   "outputs": [
    {
     "data": {
      "image/png": "[encoded data removed]",
      "text/plain": [
       "<Figure size 720x720 with 1 Axes>"
      ]
     },
     "metadata": {
      "needs_background": "light"
     },
     "output_type": "display_data"
    }
   ],
   "source": [
    "plt.rcParams['figure.figsize']=(10,10)\n",
    "plt.bar(x=pd_df2['Artist'], height = pd_df2['sum(Play_Count)'])\n",
    "plt.title(\"Top 10 Popular Artist and their play counts\", pad =25, fontsize='30',fontweight='bold', fontname=\"Times New Roman\", style='italic')\n",
    "plt.ylabel('Play count', fontweight='bold', color = 'Black', fontsize='25', \n",
    "           verticalalignment='center', labelpad=20, fontname=\"Times New Roman\", style='italic')# ylabel function is used for labelling the Y-axis.\n",
    "\n",
    "plt.xlabel('Artist',fontweight='bold', color = 'Black', fontsize='25',\n",
    "           horizontalalignment='center', labelpad=20, fontname=\"Times New Roman\", style='italic') # xlabel function is used for labelling the X-axis.\n",
    "plt.xticks(fontname=\"Times New Roman\", rotation='vertical', fontsize='12')\n",
    "plt.show()"
   ]
  },
  {
   "cell_type": "markdown",
   "metadata": {},
   "source": [
    "# \n",
    "# Top 10 Popular Artist based on the Audience"
   ]
  },
  {
   "cell_type": "code",
   "execution_count": 35,
   "metadata": {},
   "outputs": [],
   "source": [
    "pd_df3 = df.groupBy('Artist').agg(countDistinct(\"User_ID\")).orderBy('count(User_ID)', ascending=False)"
   ]
  },
  {
   "cell_type": "code",
   "execution_count": 36,
   "metadata": {},
   "outputs": [],
   "source": [
    "# pd_df3.cache()"
   ]
  },
  {
   "cell_type": "code",
   "execution_count": 37,
   "metadata": {},
   "outputs": [],
   "source": [
    "pd_df3 = pd_df3.limit(10).toPandas()"
   ]
  },
  {
   "cell_type": "code",
   "execution_count": 38,
   "metadata": {},
   "outputs": [
    {
     "data": {
      "text/plain": [
       "(10, 2)"
      ]
     },
     "execution_count": 38,
     "metadata": {},
     "output_type": "execute_result"
    }
   ],
   "source": [
    "pd_df3.shape"
   ]
  },
  {
   "cell_type": "code",
   "execution_count": 39,
   "metadata": {
    "scrolled": true
   },
   "outputs": [
    {
     "data": {
      "image/png": "[encoded data removed]",
      "text/plain": [
       "<Figure size 720x720 with 1 Axes>"
      ]
     },
     "metadata": {
      "needs_background": "light"
     },
     "output_type": "display_data"
    }
   ],
   "source": [
    "# plt.rcParams['figure.figsize']=(10,10)\n",
    "plt.bar(x=pd_df3['Artist'], height = pd_df3['count(User_ID)'])\n",
    "plt.title(\"Top 10 Popular Artist based on Audience reach\", pad =25, fontsize='30',fontweight='bold', fontname=\"Times New Roman\", style='italic')\n",
    "plt.ylabel('User count', fontweight='bold', color = 'Black', fontsize='25', \n",
    "           verticalalignment='center', labelpad=20, fontname=\"Times New Roman\", style='italic')# ylabel function is used for labelling the Y-axis.\n",
    "\n",
    "plt.xlabel('Artist',fontweight='bold', color = 'Black', fontsize='25',\n",
    "           horizontalalignment='center', labelpad=20, fontname=\"Times New Roman\", style='italic') # xlabel function is used for labelling the X-axis.\n",
    "plt.xticks(fontname=\"Times New Roman\", rotation='vertical', fontsize='12')\n",
    "plt.show()"
   ]
  },
  {
   "cell_type": "markdown",
   "metadata": {},
   "source": [
    "# Recommendation System"
   ]
  },
  {
   "cell_type": "raw",
   "metadata": {},
   "source": [
    "A recommendation system makes predictions based on user's historical data.\n",
    "Two approaches  to Recommendation system\n",
    "\n",
    "1. Content based: It uses items features in our case song features such as tempo, lenght, time signature, key confidence or Genre to predict and recommend a song to the user. But after researching we found out that Spark's machine learning libraries doesn't support Content Based Filtering.\n",
    "\n",
    "2. Collaborative Filtering: It just requires useds historical preference dataset set to predict and recommed to the users. In our case historical preference data is user play count."
   ]
  },
  {
   "cell_type": "markdown",
   "metadata": {},
   "source": [
    "### Preparing data for applying Machine learning algorithms"
   ]
  },
  {
   "cell_type": "code",
   "execution_count": 40,
   "metadata": {},
   "outputs": [],
   "source": [
    "# Creating Integer ID's\n",
    "#Pyspark's ALS machine learning model can only consume user ID's and Song ID's as Integers. \n",
    "# So We have converting the Id's to integer type."
   ]
  },
  {
   "cell_type": "code",
   "execution_count": 41,
   "metadata": {},
   "outputs": [],
   "source": [
    "from pyspark.ml.feature import StringIndexer"
   ]
  },
  {
   "cell_type": "code",
   "execution_count": 42,
   "metadata": {},
   "outputs": [],
   "source": [
    "user_int = StringIndexer(inputCol = 'User_ID',\n",
    "                        outputCol = 'User_IntID')"
   ]
  },
  {
   "cell_type": "code",
   "execution_count": 43,
   "metadata": {},
   "outputs": [],
   "source": [
    "user_int_model = user_int.fit(df)"
   ]
  },
  {
   "cell_type": "code",
   "execution_count": 44,
   "metadata": {},
   "outputs": [],
   "source": [
    "df = user_int_model.transform(df)"
   ]
  },
  {
   "cell_type": "code",
   "execution_count": 45,
   "metadata": {},
   "outputs": [
    {
     "name": "stdout",
     "output_type": "stream",
     "text": [
      "-RECORD 0--------------------------\n",
      " Song_ID    | SOWEZSI12A81C21CE6   \n",
      " User_ID    | b80344d063b5ccb32... \n",
      " Play_Count | 1                    \n",
      " Track_ID   | TRAUCNU128F42671EB   \n",
      " Artist     | Gipsy Kings          \n",
      " Title      | Tu Quieres Volver    \n",
      " User_IntID | 366.0                \n",
      "-RECORD 1--------------------------\n",
      " Song_ID    | SODCXXY12AB0187452   \n",
      " User_ID    | 4bd88bfb25263a75b... \n",
      " Play_Count | 2                    \n",
      " Track_ID   | TRBFXMJ12903CB50F6   \n",
      " Artist     | brokeNCYDE           \n",
      " Title      | Freaxxx              \n",
      " User_IntID | 190.0                \n",
      "-RECORD 2--------------------------\n",
      " Song_ID    | SOWPAXV12A67ADA046   \n",
      " User_ID    | 2a294bd589db99006... \n",
      " Play_Count | 1                    \n",
      " Track_ID   | TRBBMHE128EF341D09   \n",
      " Artist     | Salt-N-Pepa          \n",
      " Title      | Push It              \n",
      " User_IntID | 155.0                \n",
      "-RECORD 3--------------------------\n",
      " Song_ID    | SOWPAXV12A67ADA046   \n",
      " User_ID    | 529b42cdbc379ad2e... \n",
      " Play_Count | 4                    \n",
      " Track_ID   | TRBBMHE128EF341D09   \n",
      " Artist     | Salt-N-Pepa          \n",
      " Title      | Push It              \n",
      " User_IntID | 172.0                \n",
      "-RECORD 4--------------------------\n",
      " Song_ID    | SOWPAXV12A67ADA046   \n",
      " User_ID    | 0a00498b9d607844a... \n",
      " Play_Count | 2                    \n",
      " Track_ID   | TRBBMHE128EF341D09   \n",
      " Artist     | Salt-N-Pepa          \n",
      " Title      | Push It              \n",
      " User_IntID | 166.0                \n",
      "only showing top 5 rows\n",
      "\n"
     ]
    }
   ],
   "source": [
    "df.show(n = 5, vertical=True)"
   ]
  },
  {
   "cell_type": "code",
   "execution_count": 46,
   "metadata": {},
   "outputs": [],
   "source": [
    "#validating\n",
    "# df.select('User_ID').distinct().count() == df.select('User_IntID').distinct().count()"
   ]
  },
  {
   "cell_type": "code",
   "execution_count": 47,
   "metadata": {},
   "outputs": [],
   "source": [
    "song_int = StringIndexer(inputCol = 'Song_ID',\n",
    "                        outputCol = 'Song_IntID')"
   ]
  },
  {
   "cell_type": "code",
   "execution_count": 48,
   "metadata": {},
   "outputs": [],
   "source": [
    "song_int_model = song_int.fit(df)"
   ]
  },
  {
   "cell_type": "code",
   "execution_count": 49,
   "metadata": {},
   "outputs": [],
   "source": [
    "df = song_int_model.transform(df)"
   ]
  },
  {
   "cell_type": "code",
   "execution_count": 50,
   "metadata": {},
   "outputs": [],
   "source": [
    "# df.show(n = 5, vertical=True)"
   ]
  },
  {
   "cell_type": "code",
   "execution_count": 51,
   "metadata": {},
   "outputs": [],
   "source": [
    "# df.cache()"
   ]
  },
  {
   "cell_type": "code",
   "execution_count": 52,
   "metadata": {},
   "outputs": [],
   "source": [
    "#validating\n",
    "# df.select('Song_ID').distinct().count() == df.select('Song_IntID').distinct().count()"
   ]
  },
  {
   "cell_type": "markdown",
   "metadata": {},
   "source": [
    "# Collaborative Filtering\n",
    "> Basic Idealogy behind Collaborative filtering is to find a users with similar interest and recommend products to a user who has the same taste as that of the users in that cluster. For example if a user say \"A\" listens to a song 1, 3 and 5 and if a user \"B\" listens to songs 1 and 5 then the collaborative filtering algorithm recommends song 3 to the User B .\n",
    "\n",
    "\n",
    "> Collaborative filtering works by converting the users and the products in to matrix and later factorizes it to find the latent or hidden features to see what binds the users and the products and based on those features it recommends the products to the users.\n",
    "\n",
    "> Lets say if X is a user-song matrix of size i*j, then the factored matrices will be users of size i*k and songs of size K*j\n",
    "\n",
    "\n",
    "Reference:\n",
    "https://towardsdatascience.com/intro-to-recommender-system-collaborative-filtering-64a238194a26"
   ]
  },
  {
   "cell_type": "raw",
   "metadata": {},
   "source": [
    "# lets see the sparsity of the User Song matrix nothing but how empty the matrix is \n",
    "\n",
    "numer = users * songs\n",
    "\n",
    "denom = df.count()"
   ]
  },
  {
   "cell_type": "raw",
   "metadata": {},
   "source": [
    "sparsity = numer/denom\n",
    "\n",
    "sparsity"
   ]
  },
  {
   "cell_type": "markdown",
   "metadata": {},
   "source": [
    "# Alternating Least Squares\n",
    "\n",
    "> ALS is a collaborative filtering algorithm, which helps find latent features by factorizing in a unique way. As the name indicates it factorizes the matrix first by keeping user matrix's latent features constant to find the songs latent features and later keeps the songs latent features fixed to find the user's latent features. It repeats this process of switching back and forth untils it finds and optimal solution.\n",
    "\n",
    "> The optimal solution here is A matrix close to the user song matrix (when both the factored matrices are multiplied).\n",
    "\n",
    "Reference:\n",
    "https://www.youtube.com/watch?v=K7TG_EX39OA"
   ]
  },
  {
   "cell_type": "code",
   "execution_count": 53,
   "metadata": {},
   "outputs": [],
   "source": [
    "# train test split\n",
    "(train, test) = df.randomSplit([0.8, 0.2])"
   ]
  },
  {
   "cell_type": "code",
   "execution_count": 54,
   "metadata": {},
   "outputs": [],
   "source": [
    "from pyspark.ml.recommendation import ALS\n",
    "# from pyspark.mllib.evaluation import RankingMetrics"
   ]
  },
  {
   "cell_type": "code",
   "execution_count": 55,
   "metadata": {},
   "outputs": [],
   "source": [
    "als = ALS(implicitPrefs = True, userCol = 'User_IntID', itemCol = 'Song_IntID', ratingCol = 'Play_Count')"
   ]
  },
  {
   "cell_type": "code",
   "execution_count": 56,
   "metadata": {},
   "outputs": [],
   "source": [
    "als_model = als.fit(train)"
   ]
  },
  {
   "cell_type": "code",
   "execution_count": 57,
   "metadata": {},
   "outputs": [],
   "source": [
    "als_predict = als_model.transform(test)"
   ]
  },
  {
   "cell_type": "raw",
   "metadata": {},
   "source": [
    "# Reference for choosing The below evaluation metric: http://yifanhu.net/PUB/cf.pdf\n",
    "\n",
    "# As our data has implicit reviews we cannot use RMSE cause we dont have accurate rating measure to map our predictions. So we have used a ranking metric to see if the Ratings with higher play count has the higher rate of predictions. \n",
    "\n",
    "# Rank_Eval close to zero indicates that our model is goods and predictions are not random. Where as Rank_Eval > 50% indicates that our models predictions are random."
   ]
  },
  {
   "cell_type": "code",
   "execution_count": 58,
   "metadata": {},
   "outputs": [],
   "source": [
    "# Reference: https://datascience.stackexchange.com/questions/64707/calculating-rank-ordering-error-metric-for-implicit-recommendation\n",
    "# Ranking Metric to check if the songs with higher play count have higher prediction rate.\n",
    "def Rank_Eval(predictions, userCol = 'User_IntID', itemCol = 'Song_IntID', ratingCol = 'Play_Count'):\n",
    "    predictions.createOrReplaceTempView(\"predictions\")\n",
    "    \n",
    "    denom = predictions.groupBy().sum(ratingCol).collect()[0][0]\n",
    "    spark.sql(\"SELECT \" + userCol + \",\" + ratingCol + \", PERCENT_RANK() OVER (PARTITION BY \" + userCol + \" ORDER BY prediction DESC) AS rank FROM predictions\").createOrReplaceTempView(\"rankings\")\n",
    "    \n",
    "    numer = spark.sql(\"SELECT SUM (\" + ratingCol + \" * rank) FROM rankings\").collect()[0][0]\n",
    "    \n",
    "    Eval = numer/denom\n",
    "    \n",
    "    return Eval"
   ]
  },
  {
   "cell_type": "code",
   "execution_count": 59,
   "metadata": {},
   "outputs": [
    {
     "name": "stdout",
     "output_type": "stream",
     "text": [
      "0.15602685060846827\n"
     ]
    }
   ],
   "source": [
    "evaluate = Rank_Eval(als_predict)\n",
    "print(evaluate)"
   ]
  },
  {
   "cell_type": "code",
   "execution_count": 60,
   "metadata": {},
   "outputs": [
    {
     "name": "stdout",
     "output_type": "stream",
     "text": [
      "+------------------+--------------------+----------+------------------+--------------------+--------------------+----------+----------+------------+\n",
      "|           Song_ID|             User_ID|Play_Count|          Track_ID|              Artist|               Title|User_IntID|Song_IntID|  prediction|\n",
      "+------------------+--------------------+----------+------------------+--------------------+--------------------+----------+----------+------------+\n",
      "|SOCWAFA12A8AE48A78|1b704d4cddabea825...|         1|TRBFVAA128F423C356|         The Prodigy|Wake Up Call (Alb...|       8.0|     148.0|         NaN|\n",
      "|SOLXDDC12A6701FBFD|bd64f193f0f53f09d...|         1|TRAUURC128E078EC6E|              Eminem|            I'm Back|     160.0|      31.0|  0.70801216|\n",
      "|SOADCFY12A6310E353|8207221df7894bb77...|         1|TRBCVBK128E07813EC|            Gorillaz|Rock The House (R...|     217.0|      65.0|1.6282906E-8|\n",
      "|SOPOJVI12A58A7E706|fb2f2c0e39e233622...|         1|TRALMTD128E07862AC|              Redman|             Jam 4 U|     178.0|      53.0|  0.06579578|\n",
      "|SOPOJVI12A58A7E706|732f88be38fae217f...|         1|TRALMTD128E07862AC|              Redman|             Jam 4 U|      97.0|      53.0|  0.23393413|\n",
      "|SOPOJVI12A58A7E706|7f4c09f1e5b09f9f1...|         1|TRALMTD128E07862AC|              Redman|             Jam 4 U|      21.0|      53.0|   0.1592963|\n",
      "|SOQOXXW12AF729F20B|2a8a8f48fd4eb5ca4...|         1|TRAFJIW128E078E1DE|Black Eyed Peas /...|           On My Own|     275.0|     255.0|         NaN|\n",
      "|SOYINSW12B0B80BEBD|8dcb524ff75e0ad0f...|         1|TRAQRHA128F93001EB|         The Strokes| Between Love & Hate|     104.0|     322.0|         NaN|\n",
      "|SOUEUYT12A58A7DB62|29e030a1eea04c068...|         1|TRAWCIC128F92FE36A|       Despina Vandi|                 Gia|     273.0|     108.0| 0.009025506|\n",
      "|SODTTUB12AB0184F48|18dc95f354220b343...|         2|TRAWYNV128F92F5E7E|       Guns N' Roses|  Catcher In The Rye|     101.0|     155.0|         NaN|\n",
      "|SORLLRN12A58A7F1EE|4bc4ae71635b18628...|         1|TRAFYGO128F42727E7|             Beyoncé|         Be With You|       9.0|      34.0|  0.65880716|\n",
      "|SORLLRN12A58A7F1EE|610eaa449a4793ea7...|         5|TRAFYGO128F42727E7|             Beyoncé|         Be With You|     213.0|      34.0|  0.74163926|\n",
      "|SOWQTQZ12A58A7B63E|beab889eff4a3493d...|         1|TRABCKL128F423A778|         Lupe Fiasco|Streets On Fire (...|     118.0|     115.0|  0.09385974|\n",
      "|SOAYXCJ12AB0183822|88196b0f0c0d76e81...|         2|TRAYJOF128F92F9EEA|      Kelly Clarkson|                 Cry|      98.0|     126.0|         NaN|\n",
      "|SOGMESY12A67020F25|e4c05157f8cebdf3b...|        20|TRAFAJC128E078888B|Queens Of The Sto...|        This Lullaby|     224.0|      81.0|  0.58826053|\n",
      "|SOVAGPG12AB0189963|22d652f8891ba2186...|        10|TRAWLYS12903CCFEFC|      Joa~o Gilberto|Samba De Una Nota...|      90.0|      28.0|   1.0191323|\n",
      "|SOVAGPG12AB0189963|3851d01aa9d1b2505...|         5|TRAWLYS12903CCFEFC|      Joa~o Gilberto|Samba De Una Nota...|     170.0|      28.0|   0.8509327|\n",
      "|SOVAGPG12AB0189963|3851d01aa9d1b2505...|         5|TRAWLYS12903CCFEFC|      Joa~o Gilberto|Samba De Una Nota...|     170.0|      28.0|   0.8509327|\n",
      "|SOVAGPG12AB0189963|fbc8b4327aa8ae38d...|        16|TRAWLYS12903CCFEFC|      Joa~o Gilberto|Samba De Una Nota...|     208.0|      28.0|   0.8924023|\n",
      "|SOVAGPG12AB0189963|fbc8b4327aa8ae38d...|        16|TRAWLYS12903CCFEFC|      Joa~o Gilberto|Samba De Una Nota...|     208.0|      28.0|   0.8924023|\n",
      "+------------------+--------------------+----------+------------------+--------------------+--------------------+----------+----------+------------+\n",
      "only showing top 20 rows\n",
      "\n"
     ]
    }
   ],
   "source": [
    "als_predict.show()"
   ]
  },
  {
   "cell_type": "markdown",
   "metadata": {},
   "source": [
    "# Few recommended songs to each user"
   ]
  },
  {
   "cell_type": "code",
   "execution_count": 61,
   "metadata": {},
   "outputs": [],
   "source": [
    "# we have used this fuction only cause we sampled the data. \n",
    "# sampling data caused to recommend same song multiple times\n",
    "def unique_recom(a):\n",
    "    l1=a.split(\",\")\n",
    "    s1=set(l1)\n",
    "    str1=\", \".join(s1)\n",
    "    return str1"
   ]
  },
  {
   "cell_type": "code",
   "execution_count": 62,
   "metadata": {},
   "outputs": [
    {
     "data": {
      "text/plain": [
       "<function __main__.unique_recom(a)>"
      ]
     },
     "execution_count": 62,
     "metadata": {},
     "output_type": "execute_result"
    }
   ],
   "source": [
    "spark.udf.register(\"song_dis\",unique_recom)"
   ]
  },
  {
   "cell_type": "code",
   "execution_count": 63,
   "metadata": {},
   "outputs": [
    {
     "name": "stdout",
     "output_type": "stream",
     "text": [
      "-RECORD 0-----------------------------------------------------------------------------------------------------------------\n",
      " User_IntID        | 1.0                                                                                                  \n",
      " recommended songs | Crawling (Album Version), Supermassive Black Hole (Album Version), Hips Don't Lie (featuring Wycl... \n",
      "-RECORD 1-----------------------------------------------------------------------------------------------------------------\n",
      " User_IntID        | 2.0                                                                                                  \n",
      " recommended songs | Supermassive Black Hole (Album Version), Nothin' On You [feat. Bruno Mars] (Album Version)           \n",
      "-RECORD 2-----------------------------------------------------------------------------------------------------------------\n",
      " User_IntID        | 3.0                                                                                                  \n",
      " recommended songs | Supermassive Black Hole (Album Version), Hips Don't Lie (featuring Wyclef Jean), Nothin' On You [... \n",
      "-RECORD 3-----------------------------------------------------------------------------------------------------------------\n",
      " User_IntID        | 4.0                                                                                                  \n",
      " recommended songs | Supermassive Black Hole (Album Version), Nothin' On You [feat. Bruno Mars] (Album Version)           \n",
      "-RECORD 4-----------------------------------------------------------------------------------------------------------------\n",
      " User_IntID        | 5.0                                                                                                  \n",
      " recommended songs | A Dustland Fairytale                                                                                 \n",
      "-RECORD 5-----------------------------------------------------------------------------------------------------------------\n",
      " User_IntID        | 6.0                                                                                                  \n",
      " recommended songs | Supermassive Black Hole (Album Version)                                                              \n",
      "-RECORD 6-----------------------------------------------------------------------------------------------------------------\n",
      " User_IntID        | 7.0                                                                                                  \n",
      " recommended songs | Nothin' On You [feat. Bruno Mars] (Album Version)                                                    \n",
      "-RECORD 7-----------------------------------------------------------------------------------------------------------------\n",
      " User_IntID        | 9.0                                                                                                  \n",
      " recommended songs | Hey Daddy (Daddy's Home), Nothin' On You [feat. Bruno Mars] (Album Version)                          \n",
      "-RECORD 8-----------------------------------------------------------------------------------------------------------------\n",
      " User_IntID        | 10.0                                                                                                 \n",
      " recommended songs | Nothin' On You [feat. Bruno Mars] (Album Version)                                                    \n",
      "-RECORD 9-----------------------------------------------------------------------------------------------------------------\n",
      " User_IntID        | 11.0                                                                                                 \n",
      " recommended songs | Supermassive Black Hole (Album Version)                                                              \n",
      "-RECORD 10----------------------------------------------------------------------------------------------------------------\n",
      " User_IntID        | 13.0                                                                                                 \n",
      " recommended songs | Angie (1993 Digital Remaster)                                                                        \n",
      "-RECORD 11----------------------------------------------------------------------------------------------------------------\n",
      " User_IntID        | 17.0                                                                                                 \n",
      " recommended songs | Baby Boy [feat. Beyonce], Check On It                                                                \n",
      "-RECORD 12----------------------------------------------------------------------------------------------------------------\n",
      " User_IntID        | 19.0                                                                                                 \n",
      " recommended songs | Nothin' On You [feat. Bruno Mars] (Album Version)                                                    \n",
      "-RECORD 13----------------------------------------------------------------------------------------------------------------\n",
      " User_IntID        | 21.0                                                                                                 \n",
      " recommended songs | Supermassive Black Hole (Album Version)                                                              \n",
      "-RECORD 14----------------------------------------------------------------------------------------------------------------\n",
      " User_IntID        | 23.0                                                                                                 \n",
      " recommended songs | Ragoo, A Dustland Fairytale                                                                          \n",
      "-RECORD 15----------------------------------------------------------------------------------------------------------------\n",
      " User_IntID        | 24.0                                                                                                 \n",
      " recommended songs | Supermassive Black Hole (Album Version)                                                              \n",
      "-RECORD 16----------------------------------------------------------------------------------------------------------------\n",
      " User_IntID        | 25.0                                                                                                 \n",
      " recommended songs | Hips Don't Lie (featuring Wyclef Jean)                                                               \n",
      "-RECORD 17----------------------------------------------------------------------------------------------------------------\n",
      " User_IntID        | 27.0                                                                                                 \n",
      " recommended songs | Let's Get It Started, Hips Don't Lie (featuring Wyclef Jean)                                         \n",
      "-RECORD 18----------------------------------------------------------------------------------------------------------------\n",
      " User_IntID        | 28.0                                                                                                 \n",
      " recommended songs | Supermassive Black Hole (Album Version)                                                              \n",
      "-RECORD 19----------------------------------------------------------------------------------------------------------------\n",
      " User_IntID        | 29.0                                                                                                 \n",
      " recommended songs | Hips Don't Lie (featuring Wyclef Jean)                                                               \n",
      "only showing top 20 rows\n",
      "\n"
     ]
    }
   ],
   "source": [
    "# Temp view\n",
    "spark.sql(\"select t1.User_IntID,song_dis(concat_ws(',', collect_list(t1.Title)))`recommended songs` \\\n",
    "          from (select * from (select *,avg(prediction) over(partition by User_IntID)`av` \\\n",
    "          from predictions order by User_IntID)t where t.prediction>t.av)t1 group by  \\\n",
    "          t1.User_IntID order by t1.User_IntID\").show(vertical=True,truncate=100)"
   ]
  },
  {
   "cell_type": "markdown",
   "metadata": {},
   "source": [
    "# Content Based Filtering"
   ]
  },
  {
   "cell_type": "code",
   "execution_count": 64,
   "metadata": {},
   "outputs": [],
   "source": [
    "# dataframe Schema creation. \n",
    "lyrics_schema = StructType(\n",
    "  [StructField('Tracks_ID', StringType()),\n",
    "   StructField('MXM_ID', IntegerType()),\n",
    "   StructField('Word', StringType()),\n",
    "  StructField('Count', IntegerType()),\n",
    "  StructField('Is_true', IntegerType())]\n",
    ")"
   ]
  },
  {
   "cell_type": "code",
   "execution_count": 65,
   "metadata": {},
   "outputs": [],
   "source": [
    "#reading data into a Spark dataframe. Lyrics Bag of words Data\n",
    "lyrics_data = spark.read.options(delimiter = ',', header=False,inferSchema=False)\\\n",
    "                         .csv(\"lyrics_smaple.csv\", schema = lyrics_schema)\n",
    "\n",
    "\n",
    "# Our S3 datafiles folder in AWS\n",
    "#s3://603project//filename\n",
    "\n",
    "# Our Hadoop datafiles folder\n",
    "# hdfs://localhost:9000/603project/filename"
   ]
  },
  {
   "cell_type": "code",
   "execution_count": 66,
   "metadata": {},
   "outputs": [
    {
     "name": "stdout",
     "output_type": "stream",
     "text": [
      "+------------------+-------+----+-----+-------+\n",
      "|         Tracks_ID| MXM_ID|Word|Count|Is_true|\n",
      "+------------------+-------+----+-----+-------+\n",
      "|TRAAAAV128F421A322|4623710|   i|    6|      0|\n",
      "|TRAAAAV128F421A322|4623710| the|    4|      0|\n",
      "|TRAAAAV128F421A322|4623710| you|    2|      0|\n",
      "|TRAAAAV128F421A322|4623710|  to|    2|      0|\n",
      "|TRAAAAV128F421A322|4623710| and|    5|      0|\n",
      "|TRAAAAV128F421A322|4623710|   a|    3|      0|\n",
      "|TRAAAAV128F421A322|4623710|  me|    1|      0|\n",
      "|TRAAAAV128F421A322|4623710|  it|    1|      0|\n",
      "|TRAAAAV128F421A322|4623710|  my|    1|      0|\n",
      "|TRAAAAV128F421A322|4623710|  is|    2|      0|\n",
      "|TRAAAAV128F421A322|4623710|  of|    3|      0|\n",
      "|TRAAAAV128F421A322|4623710|your|    1|      0|\n",
      "|TRAAAAV128F421A322|4623710|that|    1|      0|\n",
      "|TRAAAAV128F421A322|4623710| are|    2|      0|\n",
      "|TRAAAAV128F421A322|4623710|  we|    2|      0|\n",
      "|TRAAAAV128F421A322|4623710|  am|    2|      0|\n",
      "|TRAAAAV128F421A322|4623710|will|    2|      0|\n",
      "|TRAAAAV128F421A322|4623710| for|    4|      0|\n",
      "|TRAAAAV128F421A322|4623710|  be|    1|      0|\n",
      "|TRAAAAV128F421A322|4623710|have|    2|      0|\n",
      "+------------------+-------+----+-----+-------+\n",
      "only showing top 20 rows\n",
      "\n"
     ]
    }
   ],
   "source": [
    "lyrics_data.show() # Lyrics Data"
   ]
  },
  {
   "cell_type": "markdown",
   "metadata": {},
   "source": [
    "# Checking NULL values"
   ]
  },
  {
   "cell_type": "code",
   "execution_count": 67,
   "metadata": {},
   "outputs": [
    {
     "name": "stdout",
     "output_type": "stream",
     "text": [
      "+---------+------+----+-----+-------+\n",
      "|Tracks_ID|MXM_ID|Word|Count|Is_true|\n",
      "+---------+------+----+-----+-------+\n",
      "|        0|     0|   0|    0|      0|\n",
      "+---------+------+----+-----+-------+\n",
      "\n"
     ]
    }
   ],
   "source": [
    "lyrics_data.select([count(when(isnan(c), c)).alias(c) for c in lyrics_data.columns]).show()"
   ]
  },
  {
   "cell_type": "markdown",
   "metadata": {},
   "source": [
    "# Preprocessing the Data"
   ]
  },
  {
   "cell_type": "code",
   "execution_count": 68,
   "metadata": {},
   "outputs": [],
   "source": [
    "# !pip install nltk #installing NLTK module\n",
    "# nltk.download() # downloading all the NLTK packages"
   ]
  },
  {
   "cell_type": "code",
   "execution_count": 69,
   "metadata": {},
   "outputs": [],
   "source": [
    "from nltk.corpus import stopwords"
   ]
  },
  {
   "cell_type": "code",
   "execution_count": 70,
   "metadata": {},
   "outputs": [],
   "source": [
    "# print(stopwords.words('english'))\n",
    "stop_words = stopwords.words('english') #getting all the english stopwords into a list"
   ]
  },
  {
   "cell_type": "code",
   "execution_count": 71,
   "metadata": {},
   "outputs": [],
   "source": [
    "# removing stop words\n",
    "lyrics_noStopwords = lyrics_data.filter(~lyrics_data.Word.isin(stop_words))"
   ]
  },
  {
   "cell_type": "code",
   "execution_count": 72,
   "metadata": {},
   "outputs": [],
   "source": [
    "# lyrics_noStopwords.show(5)"
   ]
  },
  {
   "cell_type": "code",
   "execution_count": 73,
   "metadata": {},
   "outputs": [],
   "source": [
    "# lyrics_noStopwords.count()"
   ]
  },
  {
   "cell_type": "code",
   "execution_count": 74,
   "metadata": {},
   "outputs": [
    {
     "name": "stdout",
     "output_type": "stream",
     "text": [
      "root\n",
      " |-- Tracks_ID: string (nullable = true)\n",
      " |-- MXM_ID: integer (nullable = true)\n",
      " |-- Word: string (nullable = true)\n",
      " |-- Count: integer (nullable = true)\n",
      " |-- Is_true: integer (nullable = true)\n",
      "\n"
     ]
    }
   ],
   "source": [
    "# Schema of lyrics stopwords\n",
    "lyrics_noStopwords.printSchema()"
   ]
  },
  {
   "cell_type": "code",
   "execution_count": 75,
   "metadata": {},
   "outputs": [],
   "source": [
    "# creating a new column lyrics = word * count i.e repeating the word based on its count.\n",
    "lyrics_noStopwords=lyrics_noStopwords.withColumn(\"lyrics\", \\\n",
    "                                                 array_repeat(lyrics_noStopwords.Word, lyrics_noStopwords.Count))\n",
    "\n",
    "# lyrics_noStopwords.show()"
   ]
  },
  {
   "cell_type": "code",
   "execution_count": 76,
   "metadata": {},
   "outputs": [
    {
     "name": "stdout",
     "output_type": "stream",
     "text": [
      "root\n",
      " |-- Tracks_ID: string (nullable = true)\n",
      " |-- MXM_ID: integer (nullable = true)\n",
      " |-- Word: string (nullable = true)\n",
      " |-- Count: integer (nullable = true)\n",
      " |-- Is_true: integer (nullable = true)\n",
      " |-- lyrics: array (nullable = true)\n",
      " |    |-- element: string (containsNull = true)\n",
      "\n"
     ]
    }
   ],
   "source": [
    "# Schema\n",
    "lyrics_noStopwords.printSchema()"
   ]
  },
  {
   "cell_type": "code",
   "execution_count": 77,
   "metadata": {},
   "outputs": [],
   "source": [
    "# Function to concat the words to make it as a string\n",
    "def join(xyz):\n",
    "    \n",
    "    eq=\" \".join(xyz)\n",
    "    return eq"
   ]
  },
  {
   "cell_type": "code",
   "execution_count": 78,
   "metadata": {},
   "outputs": [],
   "source": [
    "# udf is like apply function in pandas which apply function to each and every row. \n",
    "# It makes ordinary python code into something scalable.\n",
    "\n",
    "join_udf=udf(join)"
   ]
  },
  {
   "cell_type": "code",
   "execution_count": 79,
   "metadata": {},
   "outputs": [],
   "source": [
    "# Joining the words\n",
    "lyrics_noStopwords=lyrics_noStopwords.withColumn(\"str\",join_udf(\"lyrics\"))"
   ]
  },
  {
   "cell_type": "code",
   "execution_count": 80,
   "metadata": {},
   "outputs": [],
   "source": [
    "# lyrics_noStopwords.show(5)"
   ]
  },
  {
   "cell_type": "code",
   "execution_count": 81,
   "metadata": {},
   "outputs": [],
   "source": [
    "# Creating a Hive Temp View\n",
    "lyrics_noStopwords.createOrReplaceTempView(\"df\")"
   ]
  },
  {
   "cell_type": "code",
   "execution_count": 82,
   "metadata": {},
   "outputs": [],
   "source": [
    "# spark.sql(\"select * from df\")"
   ]
  },
  {
   "cell_type": "code",
   "execution_count": 83,
   "metadata": {},
   "outputs": [],
   "source": [
    "# SQL code to concat all the words that belong to same Track_ID\n",
    "lyrics_noStopwords = spark.sql(\"select Tracks_ID, concat_ws(' ',collect_list(str))`lyrics` \\\n",
    "                               from df group by Tracks_ID,MXM_ID\")"
   ]
  },
  {
   "cell_type": "code",
   "execution_count": 84,
   "metadata": {},
   "outputs": [],
   "source": [
    "# lyrics_noStopwords.show()"
   ]
  },
  {
   "cell_type": "code",
   "execution_count": 85,
   "metadata": {},
   "outputs": [],
   "source": [
    "# Sampling the data to make it more managable.\n",
    "newdf=lyrics_noStopwords.limit(100)"
   ]
  },
  {
   "cell_type": "code",
   "execution_count": 86,
   "metadata": {},
   "outputs": [
    {
     "name": "stdout",
     "output_type": "stream",
     "text": [
      "+------------------+--------------------+\n",
      "|         Tracks_ID|              lyrics|\n",
      "+------------------+--------------------+\n",
      "|TRAAABD128F429CF47|know know know kn...|\n",
      "|TRAAAFD128F92F423A|one got never fee...|\n",
      "|TRAAAEW128F42930C0|like take would w...|\n",
      "|TRAAAHJ128F931194C|love time never n...|\n",
      "|TRAAAED128E0783FAB|love love love lo...|\n",
      "|TRAAAOF128F429C156|know know know li...|\n",
      "|TRAAAHZ128E0799171|love love know li...|\n",
      "|TRAAAJG128F9308A25|like one get ca c...|\n",
      "|TRAAAEF128F4273421|know got got got ...|\n",
      "|TRAAAAV128F421A322|like like de got ...|\n",
      "|TRAAAGF12903CEC202|en e end du du et...|\n",
      "+------------------+--------------------+\n",
      "\n"
     ]
    }
   ],
   "source": [
    "# Dispalying the dataframe\n",
    "newdf.show()"
   ]
  },
  {
   "cell_type": "code",
   "execution_count": 87,
   "metadata": {},
   "outputs": [],
   "source": [
    "# cross joining the data so that we can find consine similarity between each and every lyrics\n",
    "dfnew = newdf.crossJoin(newdf.selectExpr(\"Tracks_ID as Id\",\"lyrics as ly\"))"
   ]
  },
  {
   "cell_type": "code",
   "execution_count": 88,
   "metadata": {},
   "outputs": [
    {
     "data": {
      "text/plain": [
       "['Tracks_ID', 'lyrics', 'Id', 'ly']"
      ]
     },
     "execution_count": 88,
     "metadata": {},
     "output_type": "execute_result"
    }
   ],
   "source": [
    "# columns in our new dataframe\n",
    "dfnew.columns"
   ]
  },
  {
   "cell_type": "code",
   "execution_count": 89,
   "metadata": {},
   "outputs": [],
   "source": [
    "# dfnew.show()"
   ]
  },
  {
   "cell_type": "code",
   "execution_count": 90,
   "metadata": {},
   "outputs": [],
   "source": [
    "from pyspark.ml.feature import Tokenizer, HashingTF, IDF"
   ]
  },
  {
   "cell_type": "code",
   "execution_count": 91,
   "metadata": {},
   "outputs": [],
   "source": [
    "# tokenizing the lyrics\n",
    "tokenizer = Tokenizer(inputCol='lyrics', outputCol='words')\n",
    "df2 = tokenizer.transform(dfnew)"
   ]
  },
  {
   "cell_type": "code",
   "execution_count": 92,
   "metadata": {},
   "outputs": [],
   "source": [
    "# df2.show()"
   ]
  },
  {
   "cell_type": "code",
   "execution_count": 93,
   "metadata": {},
   "outputs": [],
   "source": [
    "# tokeninzing the lyrics\n",
    "tokenizer = Tokenizer(inputCol='ly', outputCol='words2')\n",
    "df2 = tokenizer.transform(df2)"
   ]
  },
  {
   "cell_type": "code",
   "execution_count": 94,
   "metadata": {},
   "outputs": [],
   "source": [
    "# df2.show()"
   ]
  },
  {
   "cell_type": "code",
   "execution_count": 95,
   "metadata": {},
   "outputs": [],
   "source": [
    "# Term freaquency vectors of the tokenized lyrics\n",
    "tf_hasher = HashingTF(numFeatures=15, binary=True, inputCol='words', outputCol='tf_vector')\n",
    "tf_hasher1 = HashingTF(numFeatures=15, binary=True, inputCol='words2', outputCol='tf_vector2')"
   ]
  },
  {
   "cell_type": "code",
   "execution_count": 96,
   "metadata": {},
   "outputs": [],
   "source": [
    "# Trasforming the tokens into term frequency vectors\n",
    "df2 = tf_hasher.transform(df2)\n",
    "df2 = tf_hasher1.transform(df2)"
   ]
  },
  {
   "cell_type": "code",
   "execution_count": 97,
   "metadata": {},
   "outputs": [
    {
     "name": "stdout",
     "output_type": "stream",
     "text": [
      "-RECORD 0--------------------------\n",
      " Tracks_ID  | TRAAABD128F429CF47   \n",
      " lyrics     | know know know kn... \n",
      " Id         | TRAAABD128F429CF47   \n",
      " ly         | know know know kn... \n",
      " words      | [know, know, know... \n",
      " words2     | [know, know, know... \n",
      " tf_vector  | (15,[0,1,2,3,4,5,... \n",
      " tf_vector2 | (15,[0,1,2,3,4,5,... \n",
      "-RECORD 1--------------------------\n",
      " Tracks_ID  | TRAAABD128F429CF47   \n",
      " lyrics     | know know know kn... \n",
      " Id         | TRAAAFD128F92F423A   \n",
      " ly         | one got never fee... \n",
      " words      | [know, know, know... \n",
      " words2     | [one, got, never,... \n",
      " tf_vector  | (15,[0,1,2,3,4,5,... \n",
      " tf_vector2 | (15,[0,1,2,3,4,5,... \n",
      "-RECORD 2--------------------------\n",
      " Tracks_ID  | TRAAABD128F429CF47   \n",
      " lyrics     | know know know kn... \n",
      " Id         | TRAAAEW128F42930C0   \n",
      " ly         | like take would w... \n",
      " words      | [know, know, know... \n",
      " words2     | [like, take, woul... \n",
      " tf_vector  | (15,[0,1,2,3,4,5,... \n",
      " tf_vector2 | (15,[0,1,2,3,4,5,... \n",
      "-RECORD 3--------------------------\n",
      " Tracks_ID  | TRAAABD128F429CF47   \n",
      " lyrics     | know know know kn... \n",
      " Id         | TRAAAHJ128F931194C   \n",
      " ly         | love time never n... \n",
      " words      | [know, know, know... \n",
      " words2     | [love, time, neve... \n",
      " tf_vector  | (15,[0,1,2,3,4,5,... \n",
      " tf_vector2 | (15,[0,1,2,3,4,5,... \n",
      "-RECORD 4--------------------------\n",
      " Tracks_ID  | TRAAABD128F429CF47   \n",
      " lyrics     | know know know kn... \n",
      " Id         | TRAAAED128E0783FAB   \n",
      " ly         | love love love lo... \n",
      " words      | [know, know, know... \n",
      " words2     | [love, love, love... \n",
      " tf_vector  | (15,[0,1,2,3,4,5,... \n",
      " tf_vector2 | (15,[0,1,2,3,4,5,... \n",
      "only showing top 5 rows\n",
      "\n"
     ]
    }
   ],
   "source": [
    "df2.show(5, vertical=True)"
   ]
  },
  {
   "cell_type": "code",
   "execution_count": 98,
   "metadata": {},
   "outputs": [],
   "source": [
    "# converting Term frequencies into TF-IDF vectors\n",
    "\n",
    "idf = IDF(inputCol=\"tf_vector\", outputCol='tf_idf_vector')\n",
    "idf1 = IDF(inputCol=\"tf_vector2\", outputCol='tf_idf_vector2')\n",
    "idf_model = idf.fit(df2)\n",
    "idf_model1 = idf1.fit(df2)\n",
    "df2 = idf_model.transform(df2)\n",
    "df2 = idf_model1.transform(df2)"
   ]
  },
  {
   "cell_type": "code",
   "execution_count": 99,
   "metadata": {},
   "outputs": [
    {
     "name": "stdout",
     "output_type": "stream",
     "text": [
      "-RECORD 0------------------------------\n",
      " Tracks_ID      | TRAAABD128F429CF47   \n",
      " lyrics         | know know know kn... \n",
      " Id             | TRAAABD128F429CF47   \n",
      " ly             | know know know kn... \n",
      " words          | [know, know, know... \n",
      " words2         | [know, know, know... \n",
      " tf_vector      | (15,[0,1,2,3,4,5,... \n",
      " tf_vector2     | (15,[0,1,2,3,4,5,... \n",
      " tf_idf_vector  | (15,[0,1,2,3,4,5,... \n",
      " tf_idf_vector2 | (15,[0,1,2,3,4,5,... \n",
      "-RECORD 1------------------------------\n",
      " Tracks_ID      | TRAAABD128F429CF47   \n",
      " lyrics         | know know know kn... \n",
      " Id             | TRAAAFD128F92F423A   \n",
      " ly             | one got never fee... \n",
      " words          | [know, know, know... \n",
      " words2         | [one, got, never,... \n",
      " tf_vector      | (15,[0,1,2,3,4,5,... \n",
      " tf_vector2     | (15,[0,1,2,3,4,5,... \n",
      " tf_idf_vector  | (15,[0,1,2,3,4,5,... \n",
      " tf_idf_vector2 | (15,[0,1,2,3,4,5,... \n",
      "-RECORD 2------------------------------\n",
      " Tracks_ID      | TRAAABD128F429CF47   \n",
      " lyrics         | know know know kn... \n",
      " Id             | TRAAAEW128F42930C0   \n",
      " ly             | like take would w... \n",
      " words          | [know, know, know... \n",
      " words2         | [like, take, woul... \n",
      " tf_vector      | (15,[0,1,2,3,4,5,... \n",
      " tf_vector2     | (15,[0,1,2,3,4,5,... \n",
      " tf_idf_vector  | (15,[0,1,2,3,4,5,... \n",
      " tf_idf_vector2 | (15,[0,1,2,3,4,5,... \n",
      "-RECORD 3------------------------------\n",
      " Tracks_ID      | TRAAABD128F429CF47   \n",
      " lyrics         | know know know kn... \n",
      " Id             | TRAAAHJ128F931194C   \n",
      " ly             | love time never n... \n",
      " words          | [know, know, know... \n",
      " words2         | [love, time, neve... \n",
      " tf_vector      | (15,[0,1,2,3,4,5,... \n",
      " tf_vector2     | (15,[0,1,2,3,4,5,... \n",
      " tf_idf_vector  | (15,[0,1,2,3,4,5,... \n",
      " tf_idf_vector2 | (15,[0,1,2,3,4,5,... \n",
      "-RECORD 4------------------------------\n",
      " Tracks_ID      | TRAAABD128F429CF47   \n",
      " lyrics         | know know know kn... \n",
      " Id             | TRAAAED128E0783FAB   \n",
      " ly             | love love love lo... \n",
      " words          | [know, know, know... \n",
      " words2         | [love, love, love... \n",
      " tf_vector      | (15,[0,1,2,3,4,5,... \n",
      " tf_vector2     | (15,[0,1,2,3,4,5,... \n",
      " tf_idf_vector  | (15,[0,1,2,3,4,5,... \n",
      " tf_idf_vector2 | (15,[0,1,2,3,4,5,... \n",
      "-RECORD 5------------------------------\n",
      " Tracks_ID      | TRAAABD128F429CF47   \n",
      " lyrics         | know know know kn... \n",
      " Id             | TRAAAOF128F429C156   \n",
      " ly             | know know know li... \n",
      " words          | [know, know, know... \n",
      " words2         | [know, know, know... \n",
      " tf_vector      | (15,[0,1,2,3,4,5,... \n",
      " tf_vector2     | (15,[0,1,2,3,4,5,... \n",
      " tf_idf_vector  | (15,[0,1,2,3,4,5,... \n",
      " tf_idf_vector2 | (15,[0,1,2,3,4,5,... \n",
      "-RECORD 6------------------------------\n",
      " Tracks_ID      | TRAAABD128F429CF47   \n",
      " lyrics         | know know know kn... \n",
      " Id             | TRAAAHZ128E0799171   \n",
      " ly             | love love know li... \n",
      " words          | [know, know, know... \n",
      " words2         | [love, love, know... \n",
      " tf_vector      | (15,[0,1,2,3,4,5,... \n",
      " tf_vector2     | (15,[0,1,2,3,4,5,... \n",
      " tf_idf_vector  | (15,[0,1,2,3,4,5,... \n",
      " tf_idf_vector2 | (15,[0,1,2,3,4,5,... \n",
      "-RECORD 7------------------------------\n",
      " Tracks_ID      | TRAAABD128F429CF47   \n",
      " lyrics         | know know know kn... \n",
      " Id             | TRAAAJG128F9308A25   \n",
      " ly             | like one get ca c... \n",
      " words          | [know, know, know... \n",
      " words2         | [like, one, get, ... \n",
      " tf_vector      | (15,[0,1,2,3,4,5,... \n",
      " tf_vector2     | (15,[0,1,2,3,4,5,... \n",
      " tf_idf_vector  | (15,[0,1,2,3,4,5,... \n",
      " tf_idf_vector2 | (15,[0,1,2,3,4,5,... \n",
      "-RECORD 8------------------------------\n",
      " Tracks_ID      | TRAAABD128F429CF47   \n",
      " lyrics         | know know know kn... \n",
      " Id             | TRAAAEF128F4273421   \n",
      " ly             | know got got got ... \n",
      " words          | [know, know, know... \n",
      " words2         | [know, got, got, ... \n",
      " tf_vector      | (15,[0,1,2,3,4,5,... \n",
      " tf_vector2     | (15,[0,1,2,3,4,5,... \n",
      " tf_idf_vector  | (15,[0,1,2,3,4,5,... \n",
      " tf_idf_vector2 | (15,[0,1,2,3,4,5,... \n",
      "-RECORD 9------------------------------\n",
      " Tracks_ID      | TRAAABD128F429CF47   \n",
      " lyrics         | know know know kn... \n",
      " Id             | TRAAAAV128F421A322   \n",
      " ly             | like like de got ... \n",
      " words          | [know, know, know... \n",
      " words2         | [like, like, de, ... \n",
      " tf_vector      | (15,[0,1,2,3,4,5,... \n",
      " tf_vector2     | (15,[0,1,4,5,6,7,... \n",
      " tf_idf_vector  | (15,[0,1,2,3,4,5,... \n",
      " tf_idf_vector2 | (15,[0,1,4,5,6,7,... \n",
      "-RECORD 10-----------------------------\n",
      " Tracks_ID      | TRAAABD128F429CF47   \n",
      " lyrics         | know know know kn... \n",
      " Id             | TRAAAGF12903CEC202   \n",
      " ly             | en e end du du et... \n",
      " words          | [know, know, know... \n",
      " words2         | [en, e, end, du, ... \n",
      " tf_vector      | (15,[0,1,2,3,4,5,... \n",
      " tf_vector2     | (15,[0,1,2,3,4,6,... \n",
      " tf_idf_vector  | (15,[0,1,2,3,4,5,... \n",
      " tf_idf_vector2 | (15,[0,1,2,3,4,6,... \n",
      "-RECORD 11-----------------------------\n",
      " Tracks_ID      | TRAAAFD128F92F423A   \n",
      " lyrics         | one got never fee... \n",
      " Id             | TRAAABD128F429CF47   \n",
      " ly             | know know know kn... \n",
      " words          | [one, got, never,... \n",
      " words2         | [know, know, know... \n",
      " tf_vector      | (15,[0,1,2,3,4,5,... \n",
      " tf_vector2     | (15,[0,1,2,3,4,5,... \n",
      " tf_idf_vector  | (15,[0,1,2,3,4,5,... \n",
      " tf_idf_vector2 | (15,[0,1,2,3,4,5,... \n",
      "-RECORD 12-----------------------------\n",
      " Tracks_ID      | TRAAAFD128F92F423A   \n",
      " lyrics         | one got never fee... \n",
      " Id             | TRAAAFD128F92F423A   \n",
      " ly             | one got never fee... \n",
      " words          | [one, got, never,... \n",
      " words2         | [one, got, never,... \n",
      " tf_vector      | (15,[0,1,2,3,4,5,... \n",
      " tf_vector2     | (15,[0,1,2,3,4,5,... \n",
      " tf_idf_vector  | (15,[0,1,2,3,4,5,... \n",
      " tf_idf_vector2 | (15,[0,1,2,3,4,5,... \n",
      "-RECORD 13-----------------------------\n",
      " Tracks_ID      | TRAAAFD128F92F423A   \n",
      " lyrics         | one got never fee... \n",
      " Id             | TRAAAEW128F42930C0   \n",
      " ly             | like take would w... \n",
      " words          | [one, got, never,... \n",
      " words2         | [like, take, woul... \n",
      " tf_vector      | (15,[0,1,2,3,4,5,... \n",
      " tf_vector2     | (15,[0,1,2,3,4,5,... \n",
      " tf_idf_vector  | (15,[0,1,2,3,4,5,... \n",
      " tf_idf_vector2 | (15,[0,1,2,3,4,5,... \n",
      "-RECORD 14-----------------------------\n",
      " Tracks_ID      | TRAAAFD128F92F423A   \n",
      " lyrics         | one got never fee... \n",
      " Id             | TRAAAHJ128F931194C   \n",
      " ly             | love time never n... \n",
      " words          | [one, got, never,... \n",
      " words2         | [love, time, neve... \n",
      " tf_vector      | (15,[0,1,2,3,4,5,... \n",
      " tf_vector2     | (15,[0,1,2,3,4,5,... \n",
      " tf_idf_vector  | (15,[0,1,2,3,4,5,... \n",
      " tf_idf_vector2 | (15,[0,1,2,3,4,5,... \n",
      "-RECORD 15-----------------------------\n",
      " Tracks_ID      | TRAAAFD128F92F423A   \n",
      " lyrics         | one got never fee... \n",
      " Id             | TRAAAED128E0783FAB   \n",
      " ly             | love love love lo... \n",
      " words          | [one, got, never,... \n",
      " words2         | [love, love, love... \n",
      " tf_vector      | (15,[0,1,2,3,4,5,... \n",
      " tf_vector2     | (15,[0,1,2,3,4,5,... \n",
      " tf_idf_vector  | (15,[0,1,2,3,4,5,... \n",
      " tf_idf_vector2 | (15,[0,1,2,3,4,5,... \n",
      "-RECORD 16-----------------------------\n",
      " Tracks_ID      | TRAAAFD128F92F423A   \n",
      " lyrics         | one got never fee... \n",
      " Id             | TRAAAOF128F429C156   \n",
      " ly             | know know know li... \n",
      " words          | [one, got, never,... \n",
      " words2         | [know, know, know... \n",
      " tf_vector      | (15,[0,1,2,3,4,5,... \n",
      " tf_vector2     | (15,[0,1,2,3,4,5,... \n",
      " tf_idf_vector  | (15,[0,1,2,3,4,5,... \n",
      " tf_idf_vector2 | (15,[0,1,2,3,4,5,... \n",
      "-RECORD 17-----------------------------\n",
      " Tracks_ID      | TRAAAFD128F92F423A   \n",
      " lyrics         | one got never fee... \n",
      " Id             | TRAAAHZ128E0799171   \n",
      " ly             | love love know li... \n",
      " words          | [one, got, never,... \n",
      " words2         | [love, love, know... \n",
      " tf_vector      | (15,[0,1,2,3,4,5,... \n",
      " tf_vector2     | (15,[0,1,2,3,4,5,... \n",
      " tf_idf_vector  | (15,[0,1,2,3,4,5,... \n",
      " tf_idf_vector2 | (15,[0,1,2,3,4,5,... \n",
      "-RECORD 18-----------------------------\n",
      " Tracks_ID      | TRAAAFD128F92F423A   \n",
      " lyrics         | one got never fee... \n",
      " Id             | TRAAAJG128F9308A25   \n",
      " ly             | like one get ca c... \n",
      " words          | [one, got, never,... \n",
      " words2         | [like, one, get, ... \n",
      " tf_vector      | (15,[0,1,2,3,4,5,... \n",
      " tf_vector2     | (15,[0,1,2,3,4,5,... \n",
      " tf_idf_vector  | (15,[0,1,2,3,4,5,... \n",
      " tf_idf_vector2 | (15,[0,1,2,3,4,5,... \n",
      "-RECORD 19-----------------------------\n",
      " Tracks_ID      | TRAAAFD128F92F423A   \n",
      " lyrics         | one got never fee... \n",
      " Id             | TRAAAEF128F4273421   \n",
      " ly             | know got got got ... \n",
      " words          | [one, got, never,... \n",
      " words2         | [know, got, got, ... \n",
      " tf_vector      | (15,[0,1,2,3,4,5,... \n",
      " tf_vector2     | (15,[0,1,2,3,4,5,... \n",
      " tf_idf_vector  | (15,[0,1,2,3,4,5,... \n",
      " tf_idf_vector2 | (15,[0,1,2,3,4,5,... \n",
      "-RECORD 20-----------------------------\n",
      " Tracks_ID      | TRAAAFD128F92F423A   \n",
      " lyrics         | one got never fee... \n",
      " Id             | TRAAAAV128F421A322   \n",
      " ly             | like like de got ... \n",
      " words          | [one, got, never,... \n",
      " words2         | [like, like, de, ... \n",
      " tf_vector      | (15,[0,1,2,3,4,5,... \n",
      " tf_vector2     | (15,[0,1,4,5,6,7,... \n",
      " tf_idf_vector  | (15,[0,1,2,3,4,5,... \n",
      " tf_idf_vector2 | (15,[0,1,4,5,6,7,... \n",
      "-RECORD 21-----------------------------\n",
      " Tracks_ID      | TRAAAFD128F92F423A   \n",
      " lyrics         | one got never fee... \n",
      " Id             | TRAAAGF12903CEC202   \n",
      " ly             | en e end du du et... \n",
      " words          | [one, got, never,... \n",
      " words2         | [en, e, end, du, ... \n",
      " tf_vector      | (15,[0,1,2,3,4,5,... \n",
      " tf_vector2     | (15,[0,1,2,3,4,6,... \n",
      " tf_idf_vector  | (15,[0,1,2,3,4,5,... \n",
      " tf_idf_vector2 | (15,[0,1,2,3,4,6,... \n",
      "-RECORD 22-----------------------------\n",
      " Tracks_ID      | TRAAAEW128F42930C0   \n",
      " lyrics         | like take would w... \n",
      " Id             | TRAAABD128F429CF47   \n",
      " ly             | know know know kn... \n",
      " words          | [like, take, woul... \n",
      " words2         | [know, know, know... \n",
      " tf_vector      | (15,[0,1,2,3,4,5,... \n",
      " tf_vector2     | (15,[0,1,2,3,4,5,... \n",
      " tf_idf_vector  | (15,[0,1,2,3,4,5,... \n",
      " tf_idf_vector2 | (15,[0,1,2,3,4,5,... \n",
      "-RECORD 23-----------------------------\n",
      " Tracks_ID      | TRAAAEW128F42930C0   \n",
      " lyrics         | like take would w... \n",
      " Id             | TRAAAFD128F92F423A   \n",
      " ly             | one got never fee... \n",
      " words          | [like, take, woul... \n",
      " words2         | [one, got, never,... \n",
      " tf_vector      | (15,[0,1,2,3,4,5,... \n",
      " tf_vector2     | (15,[0,1,2,3,4,5,... \n",
      " tf_idf_vector  | (15,[0,1,2,3,4,5,... \n",
      " tf_idf_vector2 | (15,[0,1,2,3,4,5,... \n",
      "-RECORD 24-----------------------------\n",
      " Tracks_ID      | TRAAAEW128F42930C0   \n",
      " lyrics         | like take would w... \n",
      " Id             | TRAAAEW128F42930C0   \n",
      " ly             | like take would w... \n",
      " words          | [like, take, woul... \n",
      " words2         | [like, take, woul... \n",
      " tf_vector      | (15,[0,1,2,3,4,5,... \n",
      " tf_vector2     | (15,[0,1,2,3,4,5,... \n",
      " tf_idf_vector  | (15,[0,1,2,3,4,5,... \n",
      " tf_idf_vector2 | (15,[0,1,2,3,4,5,... \n",
      "-RECORD 25-----------------------------\n",
      " Tracks_ID      | TRAAAEW128F42930C0   \n",
      " lyrics         | like take would w... \n",
      " Id             | TRAAAHJ128F931194C   \n",
      " ly             | love time never n... \n",
      " words          | [like, take, woul... \n",
      " words2         | [love, time, neve... \n",
      " tf_vector      | (15,[0,1,2,3,4,5,... \n",
      " tf_vector2     | (15,[0,1,2,3,4,5,... \n",
      " tf_idf_vector  | (15,[0,1,2,3,4,5,... \n",
      " tf_idf_vector2 | (15,[0,1,2,3,4,5,... \n",
      "-RECORD 26-----------------------------\n",
      " Tracks_ID      | TRAAAEW128F42930C0   \n",
      " lyrics         | like take would w... \n",
      " Id             | TRAAAED128E0783FAB   \n",
      " ly             | love love love lo... \n",
      " words          | [like, take, woul... \n",
      " words2         | [love, love, love... \n",
      " tf_vector      | (15,[0,1,2,3,4,5,... \n",
      " tf_vector2     | (15,[0,1,2,3,4,5,... \n",
      " tf_idf_vector  | (15,[0,1,2,3,4,5,... \n",
      " tf_idf_vector2 | (15,[0,1,2,3,4,5,... \n",
      "-RECORD 27-----------------------------\n",
      " Tracks_ID      | TRAAAEW128F42930C0   \n",
      " lyrics         | like take would w... \n",
      " Id             | TRAAAOF128F429C156   \n",
      " ly             | know know know li... \n",
      " words          | [like, take, woul... \n",
      " words2         | [know, know, know... \n",
      " tf_vector      | (15,[0,1,2,3,4,5,... \n",
      " tf_vector2     | (15,[0,1,2,3,4,5,... \n",
      " tf_idf_vector  | (15,[0,1,2,3,4,5,... \n",
      " tf_idf_vector2 | (15,[0,1,2,3,4,5,... \n",
      "-RECORD 28-----------------------------\n",
      " Tracks_ID      | TRAAAEW128F42930C0   \n",
      " lyrics         | like take would w... \n",
      " Id             | TRAAAHZ128E0799171   \n",
      " ly             | love love know li... \n",
      " words          | [like, take, woul... \n",
      " words2         | [love, love, know... \n",
      " tf_vector      | (15,[0,1,2,3,4,5,... \n",
      " tf_vector2     | (15,[0,1,2,3,4,5,... \n",
      " tf_idf_vector  | (15,[0,1,2,3,4,5,... \n",
      " tf_idf_vector2 | (15,[0,1,2,3,4,5,... \n",
      "-RECORD 29-----------------------------\n",
      " Tracks_ID      | TRAAAEW128F42930C0   \n",
      " lyrics         | like take would w... \n",
      " Id             | TRAAAJG128F9308A25   \n",
      " ly             | like one get ca c... \n",
      " words          | [like, take, woul... \n",
      " words2         | [like, one, get, ... \n",
      " tf_vector      | (15,[0,1,2,3,4,5,... \n",
      " tf_vector2     | (15,[0,1,2,3,4,5,... \n",
      " tf_idf_vector  | (15,[0,1,2,3,4,5,... \n",
      " tf_idf_vector2 | (15,[0,1,2,3,4,5,... \n",
      "-RECORD 30-----------------------------\n",
      " Tracks_ID      | TRAAAEW128F42930C0   \n",
      " lyrics         | like take would w... \n",
      " Id             | TRAAAEF128F4273421   \n",
      " ly             | know got got got ... \n",
      " words          | [like, take, woul... \n",
      " words2         | [know, got, got, ... \n",
      " tf_vector      | (15,[0,1,2,3,4,5,... \n",
      " tf_vector2     | (15,[0,1,2,3,4,5,... \n",
      " tf_idf_vector  | (15,[0,1,2,3,4,5,... \n",
      " tf_idf_vector2 | (15,[0,1,2,3,4,5,... \n",
      "-RECORD 31-----------------------------\n",
      " Tracks_ID      | TRAAAEW128F42930C0   \n",
      " lyrics         | like take would w... \n",
      " Id             | TRAAAAV128F421A322   \n",
      " ly             | like like de got ... \n",
      " words          | [like, take, woul... \n",
      " words2         | [like, like, de, ... \n",
      " tf_vector      | (15,[0,1,2,3,4,5,... \n",
      " tf_vector2     | (15,[0,1,4,5,6,7,... \n",
      " tf_idf_vector  | (15,[0,1,2,3,4,5,... \n",
      " tf_idf_vector2 | (15,[0,1,4,5,6,7,... \n",
      "-RECORD 32-----------------------------\n",
      " Tracks_ID      | TRAAAEW128F42930C0   \n",
      " lyrics         | like take would w... \n",
      " Id             | TRAAAGF12903CEC202   \n",
      " ly             | en e end du du et... \n",
      " words          | [like, take, woul... \n",
      " words2         | [en, e, end, du, ... \n",
      " tf_vector      | (15,[0,1,2,3,4,5,... \n",
      " tf_vector2     | (15,[0,1,2,3,4,6,... \n",
      " tf_idf_vector  | (15,[0,1,2,3,4,5,... \n",
      " tf_idf_vector2 | (15,[0,1,2,3,4,6,... \n",
      "-RECORD 33-----------------------------\n",
      " Tracks_ID      | TRAAAHJ128F931194C   \n",
      " lyrics         | love time never n... \n",
      " Id             | TRAAABD128F429CF47   \n",
      " ly             | know know know kn... \n",
      " words          | [love, time, neve... \n",
      " words2         | [know, know, know... \n",
      " tf_vector      | (15,[0,1,2,3,4,5,... \n",
      " tf_vector2     | (15,[0,1,2,3,4,5,... \n",
      " tf_idf_vector  | (15,[0,1,2,3,4,5,... \n",
      " tf_idf_vector2 | (15,[0,1,2,3,4,5,... \n",
      "-RECORD 34-----------------------------\n",
      " Tracks_ID      | TRAAAHJ128F931194C   \n",
      " lyrics         | love time never n... \n",
      " Id             | TRAAAFD128F92F423A   \n",
      " ly             | one got never fee... \n",
      " words          | [love, time, neve... \n",
      " words2         | [one, got, never,... \n",
      " tf_vector      | (15,[0,1,2,3,4,5,... \n",
      " tf_vector2     | (15,[0,1,2,3,4,5,... \n",
      " tf_idf_vector  | (15,[0,1,2,3,4,5,... \n",
      " tf_idf_vector2 | (15,[0,1,2,3,4,5,... \n",
      "-RECORD 35-----------------------------\n",
      " Tracks_ID      | TRAAAHJ128F931194C   \n",
      " lyrics         | love time never n... \n",
      " Id             | TRAAAEW128F42930C0   \n",
      " ly             | like take would w... \n",
      " words          | [love, time, neve... \n",
      " words2         | [like, take, woul... \n",
      " tf_vector      | (15,[0,1,2,3,4,5,... \n",
      " tf_vector2     | (15,[0,1,2,3,4,5,... \n",
      " tf_idf_vector  | (15,[0,1,2,3,4,5,... \n",
      " tf_idf_vector2 | (15,[0,1,2,3,4,5,... \n",
      "-RECORD 36-----------------------------\n",
      " Tracks_ID      | TRAAAHJ128F931194C   \n",
      " lyrics         | love time never n... \n",
      " Id             | TRAAAHJ128F931194C   \n",
      " ly             | love time never n... \n",
      " words          | [love, time, neve... \n",
      " words2         | [love, time, neve... \n",
      " tf_vector      | (15,[0,1,2,3,4,5,... \n",
      " tf_vector2     | (15,[0,1,2,3,4,5,... \n",
      " tf_idf_vector  | (15,[0,1,2,3,4,5,... \n",
      " tf_idf_vector2 | (15,[0,1,2,3,4,5,... \n",
      "-RECORD 37-----------------------------\n",
      " Tracks_ID      | TRAAAHJ128F931194C   \n",
      " lyrics         | love time never n... \n",
      " Id             | TRAAAED128E0783FAB   \n",
      " ly             | love love love lo... \n",
      " words          | [love, time, neve... \n",
      " words2         | [love, love, love... \n",
      " tf_vector      | (15,[0,1,2,3,4,5,... \n",
      " tf_vector2     | (15,[0,1,2,3,4,5,... \n",
      " tf_idf_vector  | (15,[0,1,2,3,4,5,... \n",
      " tf_idf_vector2 | (15,[0,1,2,3,4,5,... \n",
      "-RECORD 38-----------------------------\n",
      " Tracks_ID      | TRAAAHJ128F931194C   \n",
      " lyrics         | love time never n... \n",
      " Id             | TRAAAOF128F429C156   \n",
      " ly             | know know know li... \n",
      " words          | [love, time, neve... \n",
      " words2         | [know, know, know... \n",
      " tf_vector      | (15,[0,1,2,3,4,5,... \n",
      " tf_vector2     | (15,[0,1,2,3,4,5,... \n",
      " tf_idf_vector  | (15,[0,1,2,3,4,5,... \n",
      " tf_idf_vector2 | (15,[0,1,2,3,4,5,... \n",
      "-RECORD 39-----------------------------\n",
      " Tracks_ID      | TRAAAHJ128F931194C   \n",
      " lyrics         | love time never n... \n",
      " Id             | TRAAAHZ128E0799171   \n",
      " ly             | love love know li... \n",
      " words          | [love, time, neve... \n",
      " words2         | [love, love, know... \n",
      " tf_vector      | (15,[0,1,2,3,4,5,... \n",
      " tf_vector2     | (15,[0,1,2,3,4,5,... \n",
      " tf_idf_vector  | (15,[0,1,2,3,4,5,... \n",
      " tf_idf_vector2 | (15,[0,1,2,3,4,5,... \n",
      "-RECORD 40-----------------------------\n",
      " Tracks_ID      | TRAAAHJ128F931194C   \n",
      " lyrics         | love time never n... \n",
      " Id             | TRAAAJG128F9308A25   \n",
      " ly             | like one get ca c... \n",
      " words          | [love, time, neve... \n",
      " words2         | [like, one, get, ... \n",
      " tf_vector      | (15,[0,1,2,3,4,5,... \n",
      " tf_vector2     | (15,[0,1,2,3,4,5,... \n",
      " tf_idf_vector  | (15,[0,1,2,3,4,5,... \n",
      " tf_idf_vector2 | (15,[0,1,2,3,4,5,... \n",
      "-RECORD 41-----------------------------\n",
      " Tracks_ID      | TRAAAHJ128F931194C   \n",
      " lyrics         | love time never n... \n",
      " Id             | TRAAAEF128F4273421   \n",
      " ly             | know got got got ... \n",
      " words          | [love, time, neve... \n",
      " words2         | [know, got, got, ... \n",
      " tf_vector      | (15,[0,1,2,3,4,5,... \n",
      " tf_vector2     | (15,[0,1,2,3,4,5,... \n",
      " tf_idf_vector  | (15,[0,1,2,3,4,5,... \n",
      " tf_idf_vector2 | (15,[0,1,2,3,4,5,... \n",
      "-RECORD 42-----------------------------\n",
      " Tracks_ID      | TRAAAHJ128F931194C   \n",
      " lyrics         | love time never n... \n",
      " Id             | TRAAAAV128F421A322   \n",
      " ly             | like like de got ... \n",
      " words          | [love, time, neve... \n",
      " words2         | [like, like, de, ... \n",
      " tf_vector      | (15,[0,1,2,3,4,5,... \n",
      " tf_vector2     | (15,[0,1,4,5,6,7,... \n",
      " tf_idf_vector  | (15,[0,1,2,3,4,5,... \n",
      " tf_idf_vector2 | (15,[0,1,4,5,6,7,... \n",
      "-RECORD 43-----------------------------\n",
      " Tracks_ID      | TRAAAHJ128F931194C   \n",
      " lyrics         | love time never n... \n",
      " Id             | TRAAAGF12903CEC202   \n",
      " ly             | en e end du du et... \n",
      " words          | [love, time, neve... \n",
      " words2         | [en, e, end, du, ... \n",
      " tf_vector      | (15,[0,1,2,3,4,5,... \n",
      " tf_vector2     | (15,[0,1,2,3,4,6,... \n",
      " tf_idf_vector  | (15,[0,1,2,3,4,5,... \n",
      " tf_idf_vector2 | (15,[0,1,2,3,4,6,... \n",
      "-RECORD 44-----------------------------\n",
      " Tracks_ID      | TRAAAED128E0783FAB   \n",
      " lyrics         | love love love lo... \n",
      " Id             | TRAAABD128F429CF47   \n",
      " ly             | know know know kn... \n",
      " words          | [love, love, love... \n",
      " words2         | [know, know, know... \n",
      " tf_vector      | (15,[0,1,2,3,4,5,... \n",
      " tf_vector2     | (15,[0,1,2,3,4,5,... \n",
      " tf_idf_vector  | (15,[0,1,2,3,4,5,... \n",
      " tf_idf_vector2 | (15,[0,1,2,3,4,5,... \n",
      "-RECORD 45-----------------------------\n",
      " Tracks_ID      | TRAAAED128E0783FAB   \n",
      " lyrics         | love love love lo... \n",
      " Id             | TRAAAFD128F92F423A   \n",
      " ly             | one got never fee... \n",
      " words          | [love, love, love... \n",
      " words2         | [one, got, never,... \n",
      " tf_vector      | (15,[0,1,2,3,4,5,... \n",
      " tf_vector2     | (15,[0,1,2,3,4,5,... \n",
      " tf_idf_vector  | (15,[0,1,2,3,4,5,... \n",
      " tf_idf_vector2 | (15,[0,1,2,3,4,5,... \n",
      "-RECORD 46-----------------------------\n",
      " Tracks_ID      | TRAAAED128E0783FAB   \n",
      " lyrics         | love love love lo... \n",
      " Id             | TRAAAEW128F42930C0   \n",
      " ly             | like take would w... \n",
      " words          | [love, love, love... \n",
      " words2         | [like, take, woul... \n",
      " tf_vector      | (15,[0,1,2,3,4,5,... \n",
      " tf_vector2     | (15,[0,1,2,3,4,5,... \n",
      " tf_idf_vector  | (15,[0,1,2,3,4,5,... \n",
      " tf_idf_vector2 | (15,[0,1,2,3,4,5,... \n",
      "-RECORD 47-----------------------------\n",
      " Tracks_ID      | TRAAAED128E0783FAB   \n",
      " lyrics         | love love love lo... \n",
      " Id             | TRAAAHJ128F931194C   \n",
      " ly             | love time never n... \n",
      " words          | [love, love, love... \n",
      " words2         | [love, time, neve... \n",
      " tf_vector      | (15,[0,1,2,3,4,5,... \n",
      " tf_vector2     | (15,[0,1,2,3,4,5,... \n",
      " tf_idf_vector  | (15,[0,1,2,3,4,5,... \n",
      " tf_idf_vector2 | (15,[0,1,2,3,4,5,... \n",
      "-RECORD 48-----------------------------\n",
      " Tracks_ID      | TRAAAED128E0783FAB   \n",
      " lyrics         | love love love lo... \n",
      " Id             | TRAAAED128E0783FAB   \n",
      " ly             | love love love lo... \n",
      " words          | [love, love, love... \n",
      " words2         | [love, love, love... \n",
      " tf_vector      | (15,[0,1,2,3,4,5,... \n",
      " tf_vector2     | (15,[0,1,2,3,4,5,... \n",
      " tf_idf_vector  | (15,[0,1,2,3,4,5,... \n",
      " tf_idf_vector2 | (15,[0,1,2,3,4,5,... \n",
      "-RECORD 49-----------------------------\n",
      " Tracks_ID      | TRAAAED128E0783FAB   \n",
      " lyrics         | love love love lo... \n",
      " Id             | TRAAAOF128F429C156   \n",
      " ly             | know know know li... \n",
      " words          | [love, love, love... \n",
      " words2         | [know, know, know... \n",
      " tf_vector      | (15,[0,1,2,3,4,5,... \n",
      " tf_vector2     | (15,[0,1,2,3,4,5,... \n",
      " tf_idf_vector  | (15,[0,1,2,3,4,5,... \n",
      " tf_idf_vector2 | (15,[0,1,2,3,4,5,... \n",
      "-RECORD 50-----------------------------\n",
      " Tracks_ID      | TRAAAED128E0783FAB   \n",
      " lyrics         | love love love lo... \n",
      " Id             | TRAAAHZ128E0799171   \n",
      " ly             | love love know li... \n",
      " words          | [love, love, love... \n",
      " words2         | [love, love, know... \n",
      " tf_vector      | (15,[0,1,2,3,4,5,... \n",
      " tf_vector2     | (15,[0,1,2,3,4,5,... \n",
      " tf_idf_vector  | (15,[0,1,2,3,4,5,... \n",
      " tf_idf_vector2 | (15,[0,1,2,3,4,5,... \n",
      "-RECORD 51-----------------------------\n",
      " Tracks_ID      | TRAAAED128E0783FAB   \n",
      " lyrics         | love love love lo... \n",
      " Id             | TRAAAJG128F9308A25   \n",
      " ly             | like one get ca c... \n",
      " words          | [love, love, love... \n",
      " words2         | [like, one, get, ... \n",
      " tf_vector      | (15,[0,1,2,3,4,5,... \n",
      " tf_vector2     | (15,[0,1,2,3,4,5,... \n",
      " tf_idf_vector  | (15,[0,1,2,3,4,5,... \n",
      " tf_idf_vector2 | (15,[0,1,2,3,4,5,... \n",
      "-RECORD 52-----------------------------\n",
      " Tracks_ID      | TRAAAED128E0783FAB   \n",
      " lyrics         | love love love lo... \n",
      " Id             | TRAAAEF128F4273421   \n",
      " ly             | know got got got ... \n",
      " words          | [love, love, love... \n",
      " words2         | [know, got, got, ... \n",
      " tf_vector      | (15,[0,1,2,3,4,5,... \n",
      " tf_vector2     | (15,[0,1,2,3,4,5,... \n",
      " tf_idf_vector  | (15,[0,1,2,3,4,5,... \n",
      " tf_idf_vector2 | (15,[0,1,2,3,4,5,... \n",
      "-RECORD 53-----------------------------\n",
      " Tracks_ID      | TRAAAED128E0783FAB   \n",
      " lyrics         | love love love lo... \n",
      " Id             | TRAAAAV128F421A322   \n",
      " ly             | like like de got ... \n",
      " words          | [love, love, love... \n",
      " words2         | [like, like, de, ... \n",
      " tf_vector      | (15,[0,1,2,3,4,5,... \n",
      " tf_vector2     | (15,[0,1,4,5,6,7,... \n",
      " tf_idf_vector  | (15,[0,1,2,3,4,5,... \n",
      " tf_idf_vector2 | (15,[0,1,4,5,6,7,... \n",
      "-RECORD 54-----------------------------\n",
      " Tracks_ID      | TRAAAED128E0783FAB   \n",
      " lyrics         | love love love lo... \n",
      " Id             | TRAAAGF12903CEC202   \n",
      " ly             | en e end du du et... \n",
      " words          | [love, love, love... \n",
      " words2         | [en, e, end, du, ... \n",
      " tf_vector      | (15,[0,1,2,3,4,5,... \n",
      " tf_vector2     | (15,[0,1,2,3,4,6,... \n",
      " tf_idf_vector  | (15,[0,1,2,3,4,5,... \n",
      " tf_idf_vector2 | (15,[0,1,2,3,4,6,... \n",
      "-RECORD 55-----------------------------\n",
      " Tracks_ID      | TRAAAOF128F429C156   \n",
      " lyrics         | know know know li... \n",
      " Id             | TRAAABD128F429CF47   \n",
      " ly             | know know know kn... \n",
      " words          | [know, know, know... \n",
      " words2         | [know, know, know... \n",
      " tf_vector      | (15,[0,1,2,3,4,5,... \n",
      " tf_vector2     | (15,[0,1,2,3,4,5,... \n",
      " tf_idf_vector  | (15,[0,1,2,3,4,5,... \n",
      " tf_idf_vector2 | (15,[0,1,2,3,4,5,... \n",
      "-RECORD 56-----------------------------\n",
      " Tracks_ID      | TRAAAOF128F429C156   \n",
      " lyrics         | know know know li... \n",
      " Id             | TRAAAFD128F92F423A   \n",
      " ly             | one got never fee... \n",
      " words          | [know, know, know... \n",
      " words2         | [one, got, never,... \n",
      " tf_vector      | (15,[0,1,2,3,4,5,... \n",
      " tf_vector2     | (15,[0,1,2,3,4,5,... \n",
      " tf_idf_vector  | (15,[0,1,2,3,4,5,... \n",
      " tf_idf_vector2 | (15,[0,1,2,3,4,5,... \n",
      "-RECORD 57-----------------------------\n",
      " Tracks_ID      | TRAAAOF128F429C156   \n",
      " lyrics         | know know know li... \n",
      " Id             | TRAAAEW128F42930C0   \n",
      " ly             | like take would w... \n",
      " words          | [know, know, know... \n",
      " words2         | [like, take, woul... \n",
      " tf_vector      | (15,[0,1,2,3,4,5,... \n",
      " tf_vector2     | (15,[0,1,2,3,4,5,... \n",
      " tf_idf_vector  | (15,[0,1,2,3,4,5,... \n",
      " tf_idf_vector2 | (15,[0,1,2,3,4,5,... \n",
      "-RECORD 58-----------------------------\n",
      " Tracks_ID      | TRAAAOF128F429C156   \n",
      " lyrics         | know know know li... \n",
      " Id             | TRAAAHJ128F931194C   \n",
      " ly             | love time never n... \n",
      " words          | [know, know, know... \n",
      " words2         | [love, time, neve... \n",
      " tf_vector      | (15,[0,1,2,3,4,5,... \n",
      " tf_vector2     | (15,[0,1,2,3,4,5,... \n",
      " tf_idf_vector  | (15,[0,1,2,3,4,5,... \n",
      " tf_idf_vector2 | (15,[0,1,2,3,4,5,... \n",
      "-RECORD 59-----------------------------\n",
      " Tracks_ID      | TRAAAOF128F429C156   \n",
      " lyrics         | know know know li... \n",
      " Id             | TRAAAED128E0783FAB   \n",
      " ly             | love love love lo... \n",
      " words          | [know, know, know... \n",
      " words2         | [love, love, love... \n",
      " tf_vector      | (15,[0,1,2,3,4,5,... \n",
      " tf_vector2     | (15,[0,1,2,3,4,5,... \n",
      " tf_idf_vector  | (15,[0,1,2,3,4,5,... \n",
      " tf_idf_vector2 | (15,[0,1,2,3,4,5,... \n",
      "-RECORD 60-----------------------------\n",
      " Tracks_ID      | TRAAAOF128F429C156   \n",
      " lyrics         | know know know li... \n",
      " Id             | TRAAAOF128F429C156   \n",
      " ly             | know know know li... \n",
      " words          | [know, know, know... \n",
      " words2         | [know, know, know... \n",
      " tf_vector      | (15,[0,1,2,3,4,5,... \n",
      " tf_vector2     | (15,[0,1,2,3,4,5,... \n",
      " tf_idf_vector  | (15,[0,1,2,3,4,5,... \n",
      " tf_idf_vector2 | (15,[0,1,2,3,4,5,... \n",
      "-RECORD 61-----------------------------\n",
      " Tracks_ID      | TRAAAOF128F429C156   \n",
      " lyrics         | know know know li... \n",
      " Id             | TRAAAHZ128E0799171   \n",
      " ly             | love love know li... \n",
      " words          | [know, know, know... \n",
      " words2         | [love, love, know... \n",
      " tf_vector      | (15,[0,1,2,3,4,5,... \n",
      " tf_vector2     | (15,[0,1,2,3,4,5,... \n",
      " tf_idf_vector  | (15,[0,1,2,3,4,5,... \n",
      " tf_idf_vector2 | (15,[0,1,2,3,4,5,... \n",
      "-RECORD 62-----------------------------\n",
      " Tracks_ID      | TRAAAOF128F429C156   \n",
      " lyrics         | know know know li... \n",
      " Id             | TRAAAJG128F9308A25   \n",
      " ly             | like one get ca c... \n",
      " words          | [know, know, know... \n",
      " words2         | [like, one, get, ... \n",
      " tf_vector      | (15,[0,1,2,3,4,5,... \n",
      " tf_vector2     | (15,[0,1,2,3,4,5,... \n",
      " tf_idf_vector  | (15,[0,1,2,3,4,5,... \n",
      " tf_idf_vector2 | (15,[0,1,2,3,4,5,... \n",
      "-RECORD 63-----------------------------\n",
      " Tracks_ID      | TRAAAOF128F429C156   \n",
      " lyrics         | know know know li... \n",
      " Id             | TRAAAEF128F4273421   \n",
      " ly             | know got got got ... \n",
      " words          | [know, know, know... \n",
      " words2         | [know, got, got, ... \n",
      " tf_vector      | (15,[0,1,2,3,4,5,... \n",
      " tf_vector2     | (15,[0,1,2,3,4,5,... \n",
      " tf_idf_vector  | (15,[0,1,2,3,4,5,... \n",
      " tf_idf_vector2 | (15,[0,1,2,3,4,5,... \n",
      "-RECORD 64-----------------------------\n",
      " Tracks_ID      | TRAAAOF128F429C156   \n",
      " lyrics         | know know know li... \n",
      " Id             | TRAAAAV128F421A322   \n",
      " ly             | like like de got ... \n",
      " words          | [know, know, know... \n",
      " words2         | [like, like, de, ... \n",
      " tf_vector      | (15,[0,1,2,3,4,5,... \n",
      " tf_vector2     | (15,[0,1,4,5,6,7,... \n",
      " tf_idf_vector  | (15,[0,1,2,3,4,5,... \n",
      " tf_idf_vector2 | (15,[0,1,4,5,6,7,... \n",
      "-RECORD 65-----------------------------\n",
      " Tracks_ID      | TRAAAOF128F429C156   \n",
      " lyrics         | know know know li... \n",
      " Id             | TRAAAGF12903CEC202   \n",
      " ly             | en e end du du et... \n",
      " words          | [know, know, know... \n",
      " words2         | [en, e, end, du, ... \n",
      " tf_vector      | (15,[0,1,2,3,4,5,... \n",
      " tf_vector2     | (15,[0,1,2,3,4,6,... \n",
      " tf_idf_vector  | (15,[0,1,2,3,4,5,... \n",
      " tf_idf_vector2 | (15,[0,1,2,3,4,6,... \n",
      "-RECORD 66-----------------------------\n",
      " Tracks_ID      | TRAAAHZ128E0799171   \n",
      " lyrics         | love love know li... \n",
      " Id             | TRAAABD128F429CF47   \n",
      " ly             | know know know kn... \n",
      " words          | [love, love, know... \n",
      " words2         | [know, know, know... \n",
      " tf_vector      | (15,[0,1,2,3,4,5,... \n",
      " tf_vector2     | (15,[0,1,2,3,4,5,... \n",
      " tf_idf_vector  | (15,[0,1,2,3,4,5,... \n",
      " tf_idf_vector2 | (15,[0,1,2,3,4,5,... \n",
      "-RECORD 67-----------------------------\n",
      " Tracks_ID      | TRAAAHZ128E0799171   \n",
      " lyrics         | love love know li... \n",
      " Id             | TRAAAFD128F92F423A   \n",
      " ly             | one got never fee... \n",
      " words          | [love, love, know... \n",
      " words2         | [one, got, never,... \n",
      " tf_vector      | (15,[0,1,2,3,4,5,... \n",
      " tf_vector2     | (15,[0,1,2,3,4,5,... \n",
      " tf_idf_vector  | (15,[0,1,2,3,4,5,... \n",
      " tf_idf_vector2 | (15,[0,1,2,3,4,5,... \n",
      "-RECORD 68-----------------------------\n",
      " Tracks_ID      | TRAAAHZ128E0799171   \n",
      " lyrics         | love love know li... \n",
      " Id             | TRAAAEW128F42930C0   \n",
      " ly             | like take would w... \n",
      " words          | [love, love, know... \n",
      " words2         | [like, take, woul... \n",
      " tf_vector      | (15,[0,1,2,3,4,5,... \n",
      " tf_vector2     | (15,[0,1,2,3,4,5,... \n",
      " tf_idf_vector  | (15,[0,1,2,3,4,5,... \n",
      " tf_idf_vector2 | (15,[0,1,2,3,4,5,... \n",
      "-RECORD 69-----------------------------\n",
      " Tracks_ID      | TRAAAHZ128E0799171   \n",
      " lyrics         | love love know li... \n",
      " Id             | TRAAAHJ128F931194C   \n",
      " ly             | love time never n... \n",
      " words          | [love, love, know... \n",
      " words2         | [love, time, neve... \n",
      " tf_vector      | (15,[0,1,2,3,4,5,... \n",
      " tf_vector2     | (15,[0,1,2,3,4,5,... \n",
      " tf_idf_vector  | (15,[0,1,2,3,4,5,... \n",
      " tf_idf_vector2 | (15,[0,1,2,3,4,5,... \n",
      "-RECORD 70-----------------------------\n",
      " Tracks_ID      | TRAAAHZ128E0799171   \n",
      " lyrics         | love love know li... \n",
      " Id             | TRAAAED128E0783FAB   \n",
      " ly             | love love love lo... \n",
      " words          | [love, love, know... \n",
      " words2         | [love, love, love... \n",
      " tf_vector      | (15,[0,1,2,3,4,5,... \n",
      " tf_vector2     | (15,[0,1,2,3,4,5,... \n",
      " tf_idf_vector  | (15,[0,1,2,3,4,5,... \n",
      " tf_idf_vector2 | (15,[0,1,2,3,4,5,... \n",
      "-RECORD 71-----------------------------\n",
      " Tracks_ID      | TRAAAHZ128E0799171   \n",
      " lyrics         | love love know li... \n",
      " Id             | TRAAAOF128F429C156   \n",
      " ly             | know know know li... \n",
      " words          | [love, love, know... \n",
      " words2         | [know, know, know... \n",
      " tf_vector      | (15,[0,1,2,3,4,5,... \n",
      " tf_vector2     | (15,[0,1,2,3,4,5,... \n",
      " tf_idf_vector  | (15,[0,1,2,3,4,5,... \n",
      " tf_idf_vector2 | (15,[0,1,2,3,4,5,... \n",
      "-RECORD 72-----------------------------\n",
      " Tracks_ID      | TRAAAHZ128E0799171   \n",
      " lyrics         | love love know li... \n",
      " Id             | TRAAAHZ128E0799171   \n",
      " ly             | love love know li... \n",
      " words          | [love, love, know... \n",
      " words2         | [love, love, know... \n",
      " tf_vector      | (15,[0,1,2,3,4,5,... \n",
      " tf_vector2     | (15,[0,1,2,3,4,5,... \n",
      " tf_idf_vector  | (15,[0,1,2,3,4,5,... \n",
      " tf_idf_vector2 | (15,[0,1,2,3,4,5,... \n",
      "-RECORD 73-----------------------------\n",
      " Tracks_ID      | TRAAAHZ128E0799171   \n",
      " lyrics         | love love know li... \n",
      " Id             | TRAAAJG128F9308A25   \n",
      " ly             | like one get ca c... \n",
      " words          | [love, love, know... \n",
      " words2         | [like, one, get, ... \n",
      " tf_vector      | (15,[0,1,2,3,4,5,... \n",
      " tf_vector2     | (15,[0,1,2,3,4,5,... \n",
      " tf_idf_vector  | (15,[0,1,2,3,4,5,... \n",
      " tf_idf_vector2 | (15,[0,1,2,3,4,5,... \n",
      "-RECORD 74-----------------------------\n",
      " Tracks_ID      | TRAAAHZ128E0799171   \n",
      " lyrics         | love love know li... \n",
      " Id             | TRAAAEF128F4273421   \n",
      " ly             | know got got got ... \n",
      " words          | [love, love, know... \n",
      " words2         | [know, got, got, ... \n",
      " tf_vector      | (15,[0,1,2,3,4,5,... \n",
      " tf_vector2     | (15,[0,1,2,3,4,5,... \n",
      " tf_idf_vector  | (15,[0,1,2,3,4,5,... \n",
      " tf_idf_vector2 | (15,[0,1,2,3,4,5,... \n",
      "-RECORD 75-----------------------------\n",
      " Tracks_ID      | TRAAAHZ128E0799171   \n",
      " lyrics         | love love know li... \n",
      " Id             | TRAAAAV128F421A322   \n",
      " ly             | like like de got ... \n",
      " words          | [love, love, know... \n",
      " words2         | [like, like, de, ... \n",
      " tf_vector      | (15,[0,1,2,3,4,5,... \n",
      " tf_vector2     | (15,[0,1,4,5,6,7,... \n",
      " tf_idf_vector  | (15,[0,1,2,3,4,5,... \n",
      " tf_idf_vector2 | (15,[0,1,4,5,6,7,... \n",
      "-RECORD 76-----------------------------\n",
      " Tracks_ID      | TRAAAHZ128E0799171   \n",
      " lyrics         | love love know li... \n",
      " Id             | TRAAAGF12903CEC202   \n",
      " ly             | en e end du du et... \n",
      " words          | [love, love, know... \n",
      " words2         | [en, e, end, du, ... \n",
      " tf_vector      | (15,[0,1,2,3,4,5,... \n",
      " tf_vector2     | (15,[0,1,2,3,4,6,... \n",
      " tf_idf_vector  | (15,[0,1,2,3,4,5,... \n",
      " tf_idf_vector2 | (15,[0,1,2,3,4,6,... \n",
      "-RECORD 77-----------------------------\n",
      " Tracks_ID      | TRAAAJG128F9308A25   \n",
      " lyrics         | like one get ca c... \n",
      " Id             | TRAAABD128F429CF47   \n",
      " ly             | know know know kn... \n",
      " words          | [like, one, get, ... \n",
      " words2         | [know, know, know... \n",
      " tf_vector      | (15,[0,1,2,3,4,5,... \n",
      " tf_vector2     | (15,[0,1,2,3,4,5,... \n",
      " tf_idf_vector  | (15,[0,1,2,3,4,5,... \n",
      " tf_idf_vector2 | (15,[0,1,2,3,4,5,... \n",
      "-RECORD 78-----------------------------\n",
      " Tracks_ID      | TRAAAJG128F9308A25   \n",
      " lyrics         | like one get ca c... \n",
      " Id             | TRAAAFD128F92F423A   \n",
      " ly             | one got never fee... \n",
      " words          | [like, one, get, ... \n",
      " words2         | [one, got, never,... \n",
      " tf_vector      | (15,[0,1,2,3,4,5,... \n",
      " tf_vector2     | (15,[0,1,2,3,4,5,... \n",
      " tf_idf_vector  | (15,[0,1,2,3,4,5,... \n",
      " tf_idf_vector2 | (15,[0,1,2,3,4,5,... \n",
      "-RECORD 79-----------------------------\n",
      " Tracks_ID      | TRAAAJG128F9308A25   \n",
      " lyrics         | like one get ca c... \n",
      " Id             | TRAAAEW128F42930C0   \n",
      " ly             | like take would w... \n",
      " words          | [like, one, get, ... \n",
      " words2         | [like, take, woul... \n",
      " tf_vector      | (15,[0,1,2,3,4,5,... \n",
      " tf_vector2     | (15,[0,1,2,3,4,5,... \n",
      " tf_idf_vector  | (15,[0,1,2,3,4,5,... \n",
      " tf_idf_vector2 | (15,[0,1,2,3,4,5,... \n",
      "-RECORD 80-----------------------------\n",
      " Tracks_ID      | TRAAAJG128F9308A25   \n",
      " lyrics         | like one get ca c... \n",
      " Id             | TRAAAHJ128F931194C   \n",
      " ly             | love time never n... \n",
      " words          | [like, one, get, ... \n",
      " words2         | [love, time, neve... \n",
      " tf_vector      | (15,[0,1,2,3,4,5,... \n",
      " tf_vector2     | (15,[0,1,2,3,4,5,... \n",
      " tf_idf_vector  | (15,[0,1,2,3,4,5,... \n",
      " tf_idf_vector2 | (15,[0,1,2,3,4,5,... \n",
      "-RECORD 81-----------------------------\n",
      " Tracks_ID      | TRAAAJG128F9308A25   \n",
      " lyrics         | like one get ca c... \n",
      " Id             | TRAAAED128E0783FAB   \n",
      " ly             | love love love lo... \n",
      " words          | [like, one, get, ... \n",
      " words2         | [love, love, love... \n",
      " tf_vector      | (15,[0,1,2,3,4,5,... \n",
      " tf_vector2     | (15,[0,1,2,3,4,5,... \n",
      " tf_idf_vector  | (15,[0,1,2,3,4,5,... \n",
      " tf_idf_vector2 | (15,[0,1,2,3,4,5,... \n",
      "-RECORD 82-----------------------------\n",
      " Tracks_ID      | TRAAAJG128F9308A25   \n",
      " lyrics         | like one get ca c... \n",
      " Id             | TRAAAOF128F429C156   \n",
      " ly             | know know know li... \n",
      " words          | [like, one, get, ... \n",
      " words2         | [know, know, know... \n",
      " tf_vector      | (15,[0,1,2,3,4,5,... \n",
      " tf_vector2     | (15,[0,1,2,3,4,5,... \n",
      " tf_idf_vector  | (15,[0,1,2,3,4,5,... \n",
      " tf_idf_vector2 | (15,[0,1,2,3,4,5,... \n",
      "-RECORD 83-----------------------------\n",
      " Tracks_ID      | TRAAAJG128F9308A25   \n",
      " lyrics         | like one get ca c... \n",
      " Id             | TRAAAHZ128E0799171   \n",
      " ly             | love love know li... \n",
      " words          | [like, one, get, ... \n",
      " words2         | [love, love, know... \n",
      " tf_vector      | (15,[0,1,2,3,4,5,... \n",
      " tf_vector2     | (15,[0,1,2,3,4,5,... \n",
      " tf_idf_vector  | (15,[0,1,2,3,4,5,... \n",
      " tf_idf_vector2 | (15,[0,1,2,3,4,5,... \n",
      "-RECORD 84-----------------------------\n",
      " Tracks_ID      | TRAAAJG128F9308A25   \n",
      " lyrics         | like one get ca c... \n",
      " Id             | TRAAAJG128F9308A25   \n",
      " ly             | like one get ca c... \n",
      " words          | [like, one, get, ... \n",
      " words2         | [like, one, get, ... \n",
      " tf_vector      | (15,[0,1,2,3,4,5,... \n",
      " tf_vector2     | (15,[0,1,2,3,4,5,... \n",
      " tf_idf_vector  | (15,[0,1,2,3,4,5,... \n",
      " tf_idf_vector2 | (15,[0,1,2,3,4,5,... \n",
      "-RECORD 85-----------------------------\n",
      " Tracks_ID      | TRAAAJG128F9308A25   \n",
      " lyrics         | like one get ca c... \n",
      " Id             | TRAAAEF128F4273421   \n",
      " ly             | know got got got ... \n",
      " words          | [like, one, get, ... \n",
      " words2         | [know, got, got, ... \n",
      " tf_vector      | (15,[0,1,2,3,4,5,... \n",
      " tf_vector2     | (15,[0,1,2,3,4,5,... \n",
      " tf_idf_vector  | (15,[0,1,2,3,4,5,... \n",
      " tf_idf_vector2 | (15,[0,1,2,3,4,5,... \n",
      "-RECORD 86-----------------------------\n",
      " Tracks_ID      | TRAAAJG128F9308A25   \n",
      " lyrics         | like one get ca c... \n",
      " Id             | TRAAAAV128F421A322   \n",
      " ly             | like like de got ... \n",
      " words          | [like, one, get, ... \n",
      " words2         | [like, like, de, ... \n",
      " tf_vector      | (15,[0,1,2,3,4,5,... \n",
      " tf_vector2     | (15,[0,1,4,5,6,7,... \n",
      " tf_idf_vector  | (15,[0,1,2,3,4,5,... \n",
      " tf_idf_vector2 | (15,[0,1,4,5,6,7,... \n",
      "-RECORD 87-----------------------------\n",
      " Tracks_ID      | TRAAAJG128F9308A25   \n",
      " lyrics         | like one get ca c... \n",
      " Id             | TRAAAGF12903CEC202   \n",
      " ly             | en e end du du et... \n",
      " words          | [like, one, get, ... \n",
      " words2         | [en, e, end, du, ... \n",
      " tf_vector      | (15,[0,1,2,3,4,5,... \n",
      " tf_vector2     | (15,[0,1,2,3,4,6,... \n",
      " tf_idf_vector  | (15,[0,1,2,3,4,5,... \n",
      " tf_idf_vector2 | (15,[0,1,2,3,4,6,... \n",
      "-RECORD 88-----------------------------\n",
      " Tracks_ID      | TRAAAEF128F4273421   \n",
      " lyrics         | know got got got ... \n",
      " Id             | TRAAABD128F429CF47   \n",
      " ly             | know know know kn... \n",
      " words          | [know, got, got, ... \n",
      " words2         | [know, know, know... \n",
      " tf_vector      | (15,[0,1,2,3,4,5,... \n",
      " tf_vector2     | (15,[0,1,2,3,4,5,... \n",
      " tf_idf_vector  | (15,[0,1,2,3,4,5,... \n",
      " tf_idf_vector2 | (15,[0,1,2,3,4,5,... \n",
      "-RECORD 89-----------------------------\n",
      " Tracks_ID      | TRAAAEF128F4273421   \n",
      " lyrics         | know got got got ... \n",
      " Id             | TRAAAFD128F92F423A   \n",
      " ly             | one got never fee... \n",
      " words          | [know, got, got, ... \n",
      " words2         | [one, got, never,... \n",
      " tf_vector      | (15,[0,1,2,3,4,5,... \n",
      " tf_vector2     | (15,[0,1,2,3,4,5,... \n",
      " tf_idf_vector  | (15,[0,1,2,3,4,5,... \n",
      " tf_idf_vector2 | (15,[0,1,2,3,4,5,... \n",
      "-RECORD 90-----------------------------\n",
      " Tracks_ID      | TRAAAEF128F4273421   \n",
      " lyrics         | know got got got ... \n",
      " Id             | TRAAAEW128F42930C0   \n",
      " ly             | like take would w... \n",
      " words          | [know, got, got, ... \n",
      " words2         | [like, take, woul... \n",
      " tf_vector      | (15,[0,1,2,3,4,5,... \n",
      " tf_vector2     | (15,[0,1,2,3,4,5,... \n",
      " tf_idf_vector  | (15,[0,1,2,3,4,5,... \n",
      " tf_idf_vector2 | (15,[0,1,2,3,4,5,... \n",
      "-RECORD 91-----------------------------\n",
      " Tracks_ID      | TRAAAEF128F4273421   \n",
      " lyrics         | know got got got ... \n",
      " Id             | TRAAAHJ128F931194C   \n",
      " ly             | love time never n... \n",
      " words          | [know, got, got, ... \n",
      " words2         | [love, time, neve... \n",
      " tf_vector      | (15,[0,1,2,3,4,5,... \n",
      " tf_vector2     | (15,[0,1,2,3,4,5,... \n",
      " tf_idf_vector  | (15,[0,1,2,3,4,5,... \n",
      " tf_idf_vector2 | (15,[0,1,2,3,4,5,... \n",
      "-RECORD 92-----------------------------\n",
      " Tracks_ID      | TRAAAEF128F4273421   \n",
      " lyrics         | know got got got ... \n",
      " Id             | TRAAAED128E0783FAB   \n",
      " ly             | love love love lo... \n",
      " words          | [know, got, got, ... \n",
      " words2         | [love, love, love... \n",
      " tf_vector      | (15,[0,1,2,3,4,5,... \n",
      " tf_vector2     | (15,[0,1,2,3,4,5,... \n",
      " tf_idf_vector  | (15,[0,1,2,3,4,5,... \n",
      " tf_idf_vector2 | (15,[0,1,2,3,4,5,... \n",
      "-RECORD 93-----------------------------\n",
      " Tracks_ID      | TRAAAEF128F4273421   \n",
      " lyrics         | know got got got ... \n",
      " Id             | TRAAAOF128F429C156   \n",
      " ly             | know know know li... \n",
      " words          | [know, got, got, ... \n",
      " words2         | [know, know, know... \n",
      " tf_vector      | (15,[0,1,2,3,4,5,... \n",
      " tf_vector2     | (15,[0,1,2,3,4,5,... \n",
      " tf_idf_vector  | (15,[0,1,2,3,4,5,... \n",
      " tf_idf_vector2 | (15,[0,1,2,3,4,5,... \n",
      "-RECORD 94-----------------------------\n",
      " Tracks_ID      | TRAAAEF128F4273421   \n",
      " lyrics         | know got got got ... \n",
      " Id             | TRAAAHZ128E0799171   \n",
      " ly             | love love know li... \n",
      " words          | [know, got, got, ... \n",
      " words2         | [love, love, know... \n",
      " tf_vector      | (15,[0,1,2,3,4,5,... \n",
      " tf_vector2     | (15,[0,1,2,3,4,5,... \n",
      " tf_idf_vector  | (15,[0,1,2,3,4,5,... \n",
      " tf_idf_vector2 | (15,[0,1,2,3,4,5,... \n",
      "-RECORD 95-----------------------------\n",
      " Tracks_ID      | TRAAAEF128F4273421   \n",
      " lyrics         | know got got got ... \n",
      " Id             | TRAAAJG128F9308A25   \n",
      " ly             | like one get ca c... \n",
      " words          | [know, got, got, ... \n",
      " words2         | [like, one, get, ... \n",
      " tf_vector      | (15,[0,1,2,3,4,5,... \n",
      " tf_vector2     | (15,[0,1,2,3,4,5,... \n",
      " tf_idf_vector  | (15,[0,1,2,3,4,5,... \n",
      " tf_idf_vector2 | (15,[0,1,2,3,4,5,... \n",
      "-RECORD 96-----------------------------\n",
      " Tracks_ID      | TRAAAEF128F4273421   \n",
      " lyrics         | know got got got ... \n",
      " Id             | TRAAAEF128F4273421   \n",
      " ly             | know got got got ... \n",
      " words          | [know, got, got, ... \n",
      " words2         | [know, got, got, ... \n",
      " tf_vector      | (15,[0,1,2,3,4,5,... \n",
      " tf_vector2     | (15,[0,1,2,3,4,5,... \n",
      " tf_idf_vector  | (15,[0,1,2,3,4,5,... \n",
      " tf_idf_vector2 | (15,[0,1,2,3,4,5,... \n",
      "-RECORD 97-----------------------------\n",
      " Tracks_ID      | TRAAAEF128F4273421   \n",
      " lyrics         | know got got got ... \n",
      " Id             | TRAAAAV128F421A322   \n",
      " ly             | like like de got ... \n",
      " words          | [know, got, got, ... \n",
      " words2         | [like, like, de, ... \n",
      " tf_vector      | (15,[0,1,2,3,4,5,... \n",
      " tf_vector2     | (15,[0,1,4,5,6,7,... \n",
      " tf_idf_vector  | (15,[0,1,2,3,4,5,... \n",
      " tf_idf_vector2 | (15,[0,1,4,5,6,7,... \n",
      "-RECORD 98-----------------------------\n",
      " Tracks_ID      | TRAAAEF128F4273421   \n",
      " lyrics         | know got got got ... \n",
      " Id             | TRAAAGF12903CEC202   \n",
      " ly             | en e end du du et... \n",
      " words          | [know, got, got, ... \n",
      " words2         | [en, e, end, du, ... \n",
      " tf_vector      | (15,[0,1,2,3,4,5,... \n",
      " tf_vector2     | (15,[0,1,2,3,4,6,... \n",
      " tf_idf_vector  | (15,[0,1,2,3,4,5,... \n",
      " tf_idf_vector2 | (15,[0,1,2,3,4,6,... \n",
      "-RECORD 99-----------------------------\n",
      " Tracks_ID      | TRAAAAV128F421A322   \n",
      " lyrics         | like like de got ... \n",
      " Id             | TRAAABD128F429CF47   \n",
      " ly             | know know know kn... \n",
      " words          | [like, like, de, ... \n",
      " words2         | [know, know, know... \n",
      " tf_vector      | (15,[0,1,4,5,6,7,... \n",
      " tf_vector2     | (15,[0,1,2,3,4,5,... \n",
      " tf_idf_vector  | (15,[0,1,4,5,6,7,... \n",
      " tf_idf_vector2 | (15,[0,1,2,3,4,5,... \n",
      "only showing top 100 rows\n",
      "\n"
     ]
    }
   ],
   "source": [
    "df2.show(100,vertical=True)"
   ]
  },
  {
   "cell_type": "code",
   "execution_count": 100,
   "metadata": {},
   "outputs": [],
   "source": [
    "from pyspark.ml.linalg import *"
   ]
  },
  {
   "cell_type": "code",
   "execution_count": 101,
   "metadata": {},
   "outputs": [],
   "source": [
    "def cosine_similarity(u, v):\n",
    "    numer = v.dot(u)\n",
    "    denom = (v.norm(2) * u.norm(2))\n",
    "    l1=[]\n",
    "    if denom == 0:\n",
    "        return 0\n",
    "    else:\n",
    "        #l1.append(numer/denom)\n",
    "        return (float(numer/denom))"
   ]
  },
  {
   "cell_type": "code",
   "execution_count": 102,
   "metadata": {},
   "outputs": [],
   "source": [
    "cosine_similarity_udf = udf(cosine_similarity)"
   ]
  },
  {
   "cell_type": "code",
   "execution_count": 103,
   "metadata": {},
   "outputs": [
    {
     "name": "stdout",
     "output_type": "stream",
     "text": [
      "-RECORD 0---------------------------------\n",
      " Tracks_ID         | TRAAABD128F429CF47   \n",
      " lyrics            | know know know kn... \n",
      " Id                | TRAAABD128F429CF47   \n",
      " ly                | know know know kn... \n",
      " words             | [know, know, know... \n",
      " words2            | [know, know, know... \n",
      " tf_vector         | (15,[0,1,2,3,4,5,... \n",
      " tf_vector2        | (15,[0,1,2,3,4,5,... \n",
      " tf_idf_vector     | (15,[0,1,2,3,4,5,... \n",
      " tf_idf_vector2    | (15,[0,1,2,3,4,5,... \n",
      " cosine_similarity | 1.0000000000000002   \n",
      "-RECORD 1---------------------------------\n",
      " Tracks_ID         | TRAAABD128F429CF47   \n",
      " lyrics            | know know know kn... \n",
      " Id                | TRAAAFD128F92F423A   \n",
      " ly                | one got never fee... \n",
      " words             | [know, know, know... \n",
      " words2            | [one, got, never,... \n",
      " tf_vector         | (15,[0,1,2,3,4,5,... \n",
      " tf_vector2        | (15,[0,1,2,3,4,5,... \n",
      " tf_idf_vector     | (15,[0,1,2,3,4,5,... \n",
      " tf_idf_vector2    | (15,[0,1,2,3,4,5,... \n",
      " cosine_similarity | 1.0000000000000002   \n",
      "-RECORD 2---------------------------------\n",
      " Tracks_ID         | TRAAABD128F429CF47   \n",
      " lyrics            | know know know kn... \n",
      " Id                | TRAAAEW128F42930C0   \n",
      " ly                | like take would w... \n",
      " words             | [know, know, know... \n",
      " words2            | [like, take, woul... \n",
      " tf_vector         | (15,[0,1,2,3,4,5,... \n",
      " tf_vector2        | (15,[0,1,2,3,4,5,... \n",
      " tf_idf_vector     | (15,[0,1,2,3,4,5,... \n",
      " tf_idf_vector2    | (15,[0,1,2,3,4,5,... \n",
      " cosine_similarity | 0.9354143466934853   \n",
      "-RECORD 3---------------------------------\n",
      " Tracks_ID         | TRAAABD128F429CF47   \n",
      " lyrics            | know know know kn... \n",
      " Id                | TRAAAHJ128F931194C   \n",
      " ly                | love time never n... \n",
      " words             | [know, know, know... \n",
      " words2            | [love, time, neve... \n",
      " tf_vector         | (15,[0,1,2,3,4,5,... \n",
      " tf_vector2        | (15,[0,1,2,3,4,5,... \n",
      " tf_idf_vector     | (15,[0,1,2,3,4,5,... \n",
      " tf_idf_vector2    | (15,[0,1,2,3,4,5,... \n",
      " cosine_similarity | 1.0000000000000002   \n",
      "-RECORD 4---------------------------------\n",
      " Tracks_ID         | TRAAABD128F429CF47   \n",
      " lyrics            | know know know kn... \n",
      " Id                | TRAAAED128E0783FAB   \n",
      " ly                | love love love lo... \n",
      " words             | [know, know, know... \n",
      " words2            | [love, love, love... \n",
      " tf_vector         | (15,[0,1,2,3,4,5,... \n",
      " tf_vector2        | (15,[0,1,2,3,4,5,... \n",
      " tf_idf_vector     | (15,[0,1,2,3,4,5,... \n",
      " tf_idf_vector2    | (15,[0,1,2,3,4,5,... \n",
      " cosine_similarity | 1.0000000000000002   \n",
      "only showing top 5 rows\n",
      "\n"
     ]
    }
   ],
   "source": [
    "df_cos = df2.withColumn('cosine_similarity', cosine_similarity_udf(df2.tf_idf_vector, df2.tf_idf_vector2))\n",
    "df_cos.show(5, vertical = True)"
   ]
  },
  {
   "cell_type": "code",
   "execution_count": 104,
   "metadata": {},
   "outputs": [],
   "source": [
    "df_cos.createOrReplaceTempView(\"recom\")"
   ]
  },
  {
   "cell_type": "code",
   "execution_count": 105,
   "metadata": {},
   "outputs": [
    {
     "name": "stdout",
     "output_type": "stream",
     "text": [
      "TRAAAFD128F92F423A\n"
     ]
    }
   ],
   "source": [
    "x = input() # provide any track Id from the lyrics.csv file"
   ]
  },
  {
   "cell_type": "code",
   "execution_count": 106,
   "metadata": {},
   "outputs": [
    {
     "name": "stdout",
     "output_type": "stream",
     "text": [
      "+------------------+\n",
      "| Recommended songs|\n",
      "+------------------+\n",
      "|TRAAAEW128F42930C0|\n",
      "|TRAAAJG128F9308A25|\n",
      "+------------------+\n",
      "\n"
     ]
    }
   ],
   "source": [
    "# Few recommendations based on the Track ID provided.\n",
    "spark.sql(\"select Id`Recommended songs` from recom where Tracks_ID='\"+ x +\"' \\\n",
    "          and (cosine_similarity >0.9 and cosine_similarity<1) limit 5\").show()"
   ]
  },
  {
   "cell_type": "code",
   "execution_count": null,
   "metadata": {},
   "outputs": [],
   "source": []
  },
  {
   "cell_type": "code",
   "execution_count": null,
   "metadata": {},
   "outputs": [],
   "source": []
  },
  {
   "cell_type": "code",
   "execution_count": null,
   "metadata": {},
   "outputs": [],
   "source": []
  },
  {
   "cell_type": "code",
   "execution_count": null,
   "metadata": {},
   "outputs": [],
   "source": []
  }
 ],
 "metadata": {
  "kernelspec": {
   "display_name": "Python 3",
   "language": "python",
   "name": "python3"
  },
  "language_info": {
   "codemirror_mode": {
    "name": "ipython",
    "version": 3
   },
   "file_extension": ".py",
   "mimetype": "text/x-python",
   "name": "python",
   "nbconvert_exporter": "python",
   "pygments_lexer": "ipython3",
   "version": "3.8.5"
  }
 },
 "nbformat": 4,
 "nbformat_minor": 4
}
